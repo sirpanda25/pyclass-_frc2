{
 "cells": [
  {
   "cell_type": "markdown",
   "metadata": {},
   "source": [
    "[Table of Contents](../../index.ipynb)"
   ]
  },
  {
   "cell_type": "markdown",
   "metadata": {},
   "source": [
    "# FRC Analytics with Python - Session 07\n",
    "# Composite Data Types\n",
    "**Last Updated: 23 September 2021**\n",
    "\n",
    "### I. Composite Types vs. Scalars\n",
    "This session will focus on composite data types. You have already been introduced to one composite data type, the list. Lists are considered to be composite data types because they can contain several different items, each of which can be accessed individually. For example:\n",
    "```Python\n",
    "my_list = [1, 5, 9, 37]\n",
    "my_list[2]\n",
    "```\n",
    "In the example, `my_list` contains four different integers (*n = 4*), any one of which can be extracted from the list with the notation `my_list[x]` where *x* is an integer ranging from 0 to *n-1*.\n",
    "\n",
    "Integers, floats, and Booleans are not composite types because they cannot be broken up into smaller parts. Integers, floats, and Booleans are scalar data types, or they can also be called primitive values.\n",
    "\n",
    "What about strings? Are they composite data types ore scalars? That is an interesting question and we'll return to it later."
   ]
  },
  {
   "cell_type": "markdown",
   "metadata": {},
   "source": [
    "## II. Dictionaries\n"
   ]
  },
  {
   "cell_type": "markdown",
   "metadata": {},
   "source": [
    "### A. Introduction to Dictionaries\n",
    "Dictionaries are a composite data type in Python. Run the cell below to see a dictionary in action."
   ]
  },
  {
   "cell_type": "code",
   "execution_count": 1,
   "metadata": {},
   "outputs": [
    {
     "name": "stdout",
     "output_type": "stream",
     "text": [
      "Points from 2 robots hanging off a level switch: 55\n",
      "Data type is: <class 'dict'>\n"
     ]
    }
   ],
   "source": [
    "# Dictionary Example\n",
    "points = {\"initiation_line\": 5,\n",
    "          \"pc_lower_auto\": 2, \"pc_outer_auto\": 4, \"pc_inner_auto\": 6,\n",
    "          \"pc_lower_tele\": 1, \"pc_outer_tele\": 2, \"pc_inner_tele\": 3,\n",
    "          \"cp_rotation\": 10, \"cp_position\": 20,\n",
    "          \"hang\": 20, \"park\": 5, \"level\": 15}\n",
    "\n",
    "msg = \"Points from 2 robots hanging off a level switch:\"\n",
    "print(msg, 2 * points[\"hang\"] + points[\"level\"])\n",
    "print(\"Data type is:\", type(points))"
   ]
  },
  {
   "cell_type": "markdown",
   "metadata": {},
   "source": [
    "Dictionaries are like lists because they can hold multiple values. But unlike lists, we can assign a name to each value. In the `points` dictionary above, the value *15* has been assigned the name `\"level\"`, and the value *20* has been assigned the name `\"hang\"`. We can access the individual values by placing the name in square brackets after the name of the dictionary.\n",
    "\n",
    "It's not entirely correct to use the term *name* in relation to dictionaries. The correct term is *key*. Dictionaries consist of one or more **key-value** pairs, with the *key* appearing before the colon,`:`, the *value* appearing after the colon, and commas separating the key-value pairs. The key-value pairs are enclosed in curly braces, (or just *braces*).\n",
    "\n",
    "Consider this simple dictionary:\n",
    "```Python\n",
    "dnary = {\"key1\": \"value1\", \"key2\": \"value2\"}\n",
    "```\n",
    "The strings \"key1\" and \"key2\" are the keys, and \"value1\" and \"value2\" are the values.\n",
    "\n",
    "### B. Data Types Allowed in Dictionaries\n",
    "Dictionaries are even more flexible than the previous examples suggest. Run the next cell."
   ]
  },
  {
   "cell_type": "code",
   "execution_count": 1,
   "metadata": {},
   "outputs": [
    {
     "data": {
      "text/plain": [
       "'Nerds of the North'"
      ]
     },
     "execution_count": 1,
     "metadata": {},
     "output_type": "execute_result"
    }
   ],
   "source": [
    "# Team Name Lookup Dictionary\n",
    "# Contains names of all PNW FRC teams with team numbers < 1000\n",
    "teams = {360: \"The Revolution\", 488: \"Team XBot\",\n",
    "         492: \"Titan Robotics Club\", 568: \"Nerds of the North\",\n",
    "         753: \"High Dessert Droids\", 847: \"PHRED\",\n",
    "         948: \"Newport Robotics Group\", 949: \"Wolvorine Robotics\",\n",
    "         955: \"CV Robotics\", 997: \"Spartan Robotics\"}\n",
    "\n",
    "teams[568]"
   ]
  },
  {
   "cell_type": "markdown",
   "metadata": {},
   "source": [
    "The keys for the `teams` dictionary are integers and the values are strings! This is the exact opposite of the `points` dictionary.\n",
    "\n",
    "It just so happens that a dictionary value can be *any Python data type*, including other composite types. Different values within the same dictionary can be different data types.\n",
    "\n",
    "*But not all data types can be keys.* Dictionary keys must be an *immutable* data type. We'll explain what an immutable data type is later. For now, you just need to know that all of the data types we've covered so far, except for lists, can be used as dictionary keys.\n",
    "\n",
    "When we say that all data types except for lists can be used as keys, and all data types can be values, we mean it. Run the cell below."
   ]
  },
  {
   "cell_type": "code",
   "execution_count": 3,
   "metadata": {},
   "outputs": [
    {
     "name": "stdout",
     "output_type": "stream",
     "text": [
      "boolnary[True]: False\n",
      "boolnary[False]: True\n",
      "\n",
      "nonenary[None]: Something\n",
      "nonenary[\"Something\"]: None\n"
     ]
    }
   ],
   "source": [
    "# Weird Dictionaries you should never use!\n",
    "\n",
    "boolnary = {True: False, False: True}\n",
    "print(\"boolnary[True]:\", boolnary[True])\n",
    "print(\"boolnary[False]:\", boolnary[False])\n",
    "\n",
    "print()\n",
    "none_nary = {None: \"Something\", \"Something\": None}\n",
    "print(\"nonenary[None]:\", none_nary[None])\n",
    "print('nonenary[\"Something\"]:', none_nary[\"Something\"])"
   ]
  },
  {
   "cell_type": "markdown",
   "metadata": {},
   "source": [
    "Now that is interesting."
   ]
  },
  {
   "cell_type": "markdown",
   "metadata": {},
   "source": [
    "### C. Differences Between Lists and Dictionaries\n",
    "\n",
    "It's not obvious how a dictionary with an integer key is different form a list. Consider the `teams` dictionary above. We could achieve the same effect with a list. Run the cell below:"
   ]
  },
  {
   "cell_type": "code",
   "execution_count": 6,
   "metadata": {},
   "outputs": [
    {
     "ename": "IndexError",
     "evalue": "list assignment index out of range",
     "output_type": "error",
     "traceback": [
      "\u001b[1;31m---------------------------------------------------------------------------\u001b[0m",
      "\u001b[1;31mIndexError\u001b[0m                                Traceback (most recent call last)",
      "\u001b[1;32m~\\AppData\\Local\\Temp/ipykernel_5408/2828747535.py\u001b[0m in \u001b[0;36m<module>\u001b[1;34m\u001b[0m\n\u001b[0;32m     12\u001b[0m \u001b[0mteams_list\u001b[0m\u001b[1;33m[\u001b[0m\u001b[1;36m955\u001b[0m\u001b[1;33m]\u001b[0m \u001b[1;33m=\u001b[0m \u001b[1;34m\"CV Robotics\"\u001b[0m\u001b[1;33m\u001b[0m\u001b[1;33m\u001b[0m\u001b[0m\n\u001b[0;32m     13\u001b[0m \u001b[0mteams_list\u001b[0m\u001b[1;33m[\u001b[0m\u001b[1;36m997\u001b[0m\u001b[1;33m]\u001b[0m \u001b[1;33m=\u001b[0m \u001b[1;34m\"Spartan Robotics\"\u001b[0m\u001b[1;33m\u001b[0m\u001b[1;33m\u001b[0m\u001b[0m\n\u001b[1;32m---> 14\u001b[1;33m \u001b[0mteams_list\u001b[0m\u001b[1;33m[\u001b[0m\u001b[1;36m1001\u001b[0m\u001b[1;33m]\u001b[0m \u001b[1;33m=\u001b[0m \u001b[1;34m\"your mom\"\u001b[0m\u001b[1;33m\u001b[0m\u001b[1;33m\u001b[0m\u001b[0m\n\u001b[0m\u001b[0;32m     15\u001b[0m \u001b[1;33m\u001b[0m\u001b[0m\n\u001b[0;32m     16\u001b[0m \u001b[0mteams_list\u001b[0m\u001b[1;33m[\u001b[0m\u001b[1;36m568\u001b[0m\u001b[1;33m]\u001b[0m\u001b[1;33m\u001b[0m\u001b[1;33m\u001b[0m\u001b[0m\n",
      "\u001b[1;31mIndexError\u001b[0m: list assignment index out of range"
     ]
    }
   ],
   "source": [
    "# Create an empty list\n",
    "teams_list = [None] * 1000\n",
    "\n",
    "# Assign team names\n",
    "teams_list[360] = \"The Revolution\"\n",
    "teams_list[488] = \"Team XBot\"\n",
    "teams_list[492] = \"Titan Robotics Club\"\n",
    "teams_list[568] = \"Nerds of the North\"\n",
    "teams_list[847] = \"PHRED\"\n",
    "teams_list[948] = \"Newport Robotics Group\"\n",
    "teams_list[949] = \"Wolvorine Robotics\"\n",
    "teams_list[955] = \"CV Robotics\"\n",
    "teams_list[997] = \"Spartan Robotics\"\n",
    "\n",
    "teams_list[568]"
   ]
  },
  {
   "cell_type": "markdown",
   "metadata": {},
   "source": [
    "Symantically, the `teams_list` list object appears the same as the `teams` dictionary object. We can put a team number in square brackets and get the name. The `teams_list` object actually has an advantage. Run the next cell to see it:"
   ]
  },
  {
   "cell_type": "code",
   "execution_count": 5,
   "metadata": {},
   "outputs": [
    {
     "name": "stdout",
     "output_type": "stream",
     "text": [
      "PNW Team #9 is: None\n"
     ]
    },
    {
     "ename": "KeyError",
     "evalue": "9",
     "output_type": "error",
     "traceback": [
      "\u001b[1;31m---------------------------------------------------------------------------\u001b[0m",
      "\u001b[1;31mKeyError\u001b[0m                                  Traceback (most recent call last)",
      "\u001b[1;32m~\\AppData\\Local\\Temp/ipykernel_5408/1001313296.py\u001b[0m in \u001b[0;36m<module>\u001b[1;34m\u001b[0m\n\u001b[0;32m      2\u001b[0m \u001b[0mprint\u001b[0m\u001b[1;33m(\u001b[0m\u001b[1;34m\"PNW Team #9 is:\"\u001b[0m\u001b[1;33m,\u001b[0m \u001b[0mteams_list\u001b[0m\u001b[1;33m[\u001b[0m\u001b[1;36m9\u001b[0m\u001b[1;33m]\u001b[0m\u001b[1;33m)\u001b[0m\u001b[1;33m\u001b[0m\u001b[1;33m\u001b[0m\u001b[0m\n\u001b[0;32m      3\u001b[0m \u001b[1;33m\u001b[0m\u001b[0m\n\u001b[1;32m----> 4\u001b[1;33m \u001b[0mprint\u001b[0m\u001b[1;33m(\u001b[0m\u001b[1;34m\"PNW Team #9 is:\"\u001b[0m\u001b[1;33m,\u001b[0m \u001b[0mteams\u001b[0m\u001b[1;33m[\u001b[0m\u001b[1;36m9\u001b[0m\u001b[1;33m]\u001b[0m\u001b[1;33m)\u001b[0m\u001b[1;33m\u001b[0m\u001b[1;33m\u001b[0m\u001b[0m\n\u001b[0m",
      "\u001b[1;31mKeyError\u001b[0m: 9"
     ]
    }
   ],
   "source": [
    "# Advantages of list\n",
    "print(\"PNW Team #9 is:\", teams_list[9])\n",
    "\n",
    "print(\"PNW Team #9 is:\", teams[9])"
   ]
  },
  {
   "cell_type": "markdown",
   "metadata": {},
   "source": [
    "If we pass in a team number that does not exist in the PNW district, the list give us the `None` object, which makes sense. But if we pass a team number (i.e., key) that does not exist in the `teams` dictionary, Python throws a KeyError.\n",
    "\n",
    "So why not use a list? Here's why:"
   ]
  },
  {
   "cell_type": "code",
   "execution_count": 7,
   "metadata": {},
   "outputs": [
    {
     "name": "stdout",
     "output_type": "stream",
     "text": [
      "Bytes of memory required to store teams dictionary: 360\n",
      "Bytes of memory required to store teams_list: 8056\n"
     ]
    }
   ],
   "source": [
    "# Comparison of memory used by list and dictionary\n",
    "\n",
    "# The next line is needed to use the getsizeof() method.\n",
    "#   We will cover import statements later, so dont' worry\n",
    "#   if you don't understand this line.\n",
    "import sys\n",
    "\n",
    "print(\"Bytes of memory required to store teams dictionary:\",\n",
    "      sys.getsizeof(teams))\n",
    "print(\"Bytes of memory required to store teams_list:\",\n",
    "      sys.getsizeof(teams_list))"
   ]
  },
  {
   "cell_type": "markdown",
   "metadata": {},
   "source": [
    "Holy Cra...ckers! The list takes 20 times more memory than the dictionary. Can you see why?\n",
    "\n",
    "The list is actually storing 9 strings and 991 references to the `None` object. The dictionary takes up less space because it doesn't store a bunch of references to the `None` object.\n",
    "\n",
    "We can get around the *KeyError* problem with the [dictionary's `get()` method](https://docs.python.org/3/library/stdtypes.html#mapping-types-dict)."
   ]
  },
  {
   "cell_type": "code",
   "execution_count": 8,
   "metadata": {},
   "outputs": [
    {
     "name": "stdout",
     "output_type": "stream",
     "text": [
      "PNW Team # 9 is: None\n"
     ]
    }
   ],
   "source": [
    "print(\"PNW Team # 9 is:\", teams.get(9))"
   ]
  },
  {
   "cell_type": "markdown",
   "metadata": {},
   "source": [
    "### C. The `dict()` Function\n",
    "Every Python built-in data type has it's own function and dictionaries are no execption. Using braces to create dictionaries is very common, but another option is to use the `dict()` function."
   ]
  },
  {
   "cell_type": "code",
   "execution_count": 9,
   "metadata": {},
   "outputs": [
    {
     "data": {
      "text/plain": [
       "{360: 'The Revolution',\n",
       " 488: 'Team XBot',\n",
       " 492: 'Titan Robotics Club',\n",
       " 568: 'Nerds of the North',\n",
       " 753: 'Nerds of the North',\n",
       " 847: 'PHRED',\n",
       " 948: 'Newport Robotics Group',\n",
       " 949: 'Wolvorine Robotics',\n",
       " 955: 'CV Robotics',\n",
       " 997: 'Spartan Robotics'}"
      ]
     },
     "execution_count": 9,
     "metadata": {},
     "output_type": "execute_result"
    }
   ],
   "source": [
    "# Building dictionaries with the dict() function\n",
    "teams2 = dict([(360, \"The Revolution\"), (488, \"Team XBot\"),\n",
    "               (492, \"Titan Robotics Club\"),\n",
    "               (568, \"Nerds of the North\"), (753, \"Nerds of the North\"),\n",
    "               (847, \"PHRED\"), (948, \"Newport Robotics Group\"),\n",
    "               (949, \"Wolvorine Robotics\"), (955, \"CV Robotics\"),\n",
    "               (997, \"Spartan Robotics\")])\n",
    "teams2"
   ]
  },
  {
   "cell_type": "markdown",
   "metadata": {},
   "source": [
    "The `dict()` function takes a list of key-value pairs. Enclosing each key and value in parentheses turns them into *tuples*, another Python composite data type, which we will cover later in this session."
   ]
  },
  {
   "cell_type": "markdown",
   "metadata": {},
   "source": [
    "### D. Looping With Dictionaries.\n",
    "It's easy to loop through all items in a dictionary. Run the following cell."
   ]
  },
  {
   "cell_type": "code",
   "execution_count": 11,
   "metadata": {},
   "outputs": [
    {
     "name": "stdout",
     "output_type": "stream",
     "text": [
      "360\n",
      "488\n",
      "492\n",
      "568\n",
      "753\n",
      "847\n",
      "948\n",
      "949\n",
      "955\n",
      "997\n"
     ]
    }
   ],
   "source": [
    "# Loop through dictionary\n",
    "for team in teams:\n",
    "    print(team)"
   ]
  },
  {
   "cell_type": "markdown",
   "metadata": {},
   "source": [
    "Using a plain dictionary with a *for* statement causes Python to loop over the dictionary keys. There is an easy solution if we want to loop over the values."
   ]
  },
  {
   "cell_type": "code",
   "execution_count": 12,
   "metadata": {},
   "outputs": [
    {
     "name": "stdout",
     "output_type": "stream",
     "text": [
      "The Revolution\n",
      "Team XBot\n",
      "Titan Robotics Club\n",
      "Nerds of the North\n",
      "High Dessert Droids\n",
      "PHRED\n",
      "Newport Robotics Group\n",
      "Wolvorine Robotics\n",
      "CV Robotics\n",
      "Spartan Robotics\n"
     ]
    }
   ],
   "source": [
    "# Looping over dictionary values\n",
    "for team in teams.values():\n",
    "    print(team)"
   ]
  },
  {
   "cell_type": "markdown",
   "metadata": {},
   "source": [
    "The `.values()` method of the dictionary object causes the *for* loop to iterate (fancy word for *loop*) over the dictionary values instead of the keys. What if we wanted to loop over both keys *and* values?"
   ]
  },
  {
   "cell_type": "code",
   "execution_count": 13,
   "metadata": {},
   "outputs": [
    {
     "name": "stdout",
     "output_type": "stream",
     "text": [
      "The Revolution's team number is FRC 360\n",
      "Team XBot's team number is FRC 488\n",
      "Titan Robotics Club's team number is FRC 492\n",
      "Nerds of the North's team number is FRC 568\n",
      "High Dessert Droids's team number is FRC 753\n",
      "PHRED's team number is FRC 847\n",
      "Newport Robotics Group's team number is FRC 948\n",
      "Wolvorine Robotics's team number is FRC 949\n",
      "CV Robotics's team number is FRC 955\n",
      "Spartan Robotics's team number is FRC 997\n"
     ]
    }
   ],
   "source": [
    "# Looping over keys AND values\n",
    "for key, value in teams.items():\n",
    "    print(value, \"'s team number is FRC \", key, sep=\"\")"
   ]
  },
  {
   "cell_type": "markdown",
   "metadata": {},
   "source": [
    "The dictionary object's `.items()` method allows us to iterate over both the key and value. Did you notice how we used the named argument `sep` to eliminate the spaces that are normally printed between arguments when using the `print()` function?\n",
    "\n",
    "Dictionaries also have a `.keys()` method for iterating over just the dictionary keys. It behaves the same as iterating over a plain dictionary. Some programmers (including the mentor) like to use the `.keys()` method because it makes it more obvious what is being iterated over. See the code cell below for an example."
   ]
  },
  {
   "cell_type": "code",
   "execution_count": 14,
   "metadata": {},
   "outputs": [
    {
     "name": "stdout",
     "output_type": "stream",
     "text": [
      "360\n",
      "488\n",
      "492\n",
      "568\n",
      "753\n",
      "847\n",
      "948\n",
      "949\n",
      "955\n",
      "997\n"
     ]
    }
   ],
   "source": [
    "# Iterating with the .keys() method\n",
    "# Loop through dictionary\n",
    "for team in teams.keys():\n",
    "    print(team)"
   ]
  },
  {
   "cell_type": "markdown",
   "metadata": {},
   "source": [
    "**Important Note:** There is no guarantee that the order of results will stay the same when looping over a dictionary. CPython, the version of Python that we are using, generally returns dictionary keys and values in the order in which they were originally defined. Programmers should not rely on this behavior if they need the keys or values to be returned in a specific order because it could change without warning at any time. Programmers should explicitly sort their results or use a different data type if order is important. This behavior is different than lists. Lists are guaranteed to preserve order within loops and other programming constructs."
   ]
  },
  {
   "cell_type": "markdown",
   "metadata": {},
   "source": [
    "### E. Python Tutorial on Dictionaries\n",
    "Now work through [section 5.5 of the Python Tutorial](https://docs.python.org/3/tutorial/datastructures.html#dictionaries). Practice some of the examples below."
   ]
  },
  {
   "cell_type": "code",
   "execution_count": 17,
   "metadata": {},
   "outputs": [],
   "source": [
    "# Python Dictionary Tutorial Examples\n",
    "\n"
   ]
  },
  {
   "cell_type": "markdown",
   "metadata": {},
   "source": [
    "### F. Dictionary Exercises\n",
    "**Ex. II.1.** Add three more PNW teams to the `teams` dictionary. Make sure you run the cell that defines the `teams` dictionary (see section II.B), or you will have trouble with this exercise."
   ]
  },
  {
   "cell_type": "code",
   "execution_count": 21,
   "metadata": {},
   "outputs": [
    {
     "data": {
      "text/plain": [
       "{360: 'The Revolution',\n",
       " 488: 'Team XBot',\n",
       " 492: 'Titan Robotics Club',\n",
       " 568: 'Nerds of the North',\n",
       " 753: 'High Dessert Droids',\n",
       " 847: 'PHRED',\n",
       " 948: 'Newport Robotics Group',\n",
       " 949: 'Wolvorine Robotics',\n",
       " 955: 'CV Robotics',\n",
       " 997: 'Spartan Robotics',\n",
       " 1318: 'Issaquah Robotics Society',\n",
       " 1359: 'Scalawags',\n",
       " 1294: 'Pack of Parts'}"
      ]
     },
     "execution_count": 21,
     "metadata": {},
     "output_type": "execute_result"
    }
   ],
   "source": [
    "# Ex II.1:\n",
    "#for reference:\n",
    "#[360] = \"The Revolution\"\n",
    "#[488] = \"Team Xbot\n",
    "#[492] = \"Titan Robotics Club\"\n",
    "#[568] = \"Nerds of the North\"\n",
    "#[847] = \"PHRED\"\n",
    "#[948] = \"Newport Robotics Group\"\n",
    "#[949] = \"Wolvorine Robotics\"\n",
    "#[955] = \"CV Robotics\"\n",
    "#[997] = \"Spartan Robotics\"\n",
    "teams[1294] = \"Pack of Parts\" \n",
    "teams[1318] = \"Issaquah Robotics Society\"\n",
    "teams[1359] = \"Scalawags\"\n",
    "teams\n",
    "\n"
   ]
  },
  {
   "cell_type": "markdown",
   "metadata": {},
   "source": [
    "**Ex. II.2.** Change the name of one of the teams in the `teams` dictionary. Make something up."
   ]
  },
  {
   "cell_type": "code",
   "execution_count": 19,
   "metadata": {},
   "outputs": [
    {
     "data": {
      "text/plain": [
       "{360: 'The Revolution',\n",
       " 488: 'Team XBot',\n",
       " 492: 'Titan Robotics Club',\n",
       " 568: 'Nerds of the North',\n",
       " 753: 'High Dessert Droids',\n",
       " 847: 'PHRED',\n",
       " 948: 'Newport Robotics Group',\n",
       " 949: 'Wolvorine Robotics',\n",
       " 955: 'CV Robotics',\n",
       " 997: 'Spartan Robotics',\n",
       " 1318: 'Internal Revinue Service',\n",
       " 1294: 'Pack of Parts',\n",
       " 1359: 'Scalawags'}"
      ]
     },
     "execution_count": 19,
     "metadata": {},
     "output_type": "execute_result"
    }
   ],
   "source": [
    "# Ex II.2:\n",
    "teams[1318] = \"Internal Revinue Service\"\n",
    "teams\n"
   ]
  },
  {
   "cell_type": "markdown",
   "metadata": {},
   "source": [
    "**Ex. II.3.** Use the `del` keyword to remove one of the teams from the dictionary. Use the `len()` function to show that the team was removed. [See section 5.2 of the official Python tutorial if you need a refresher on the `del` statement](https://docs.python.org/3/tutorial/datastructures.html#the-del-statement)."
   ]
  },
  {
   "cell_type": "code",
   "execution_count": 22,
   "metadata": {},
   "outputs": [
    {
     "data": {
      "text/plain": [
       "{360: 'The Revolution',\n",
       " 488: 'Team XBot',\n",
       " 492: 'Titan Robotics Club',\n",
       " 568: 'Nerds of the North',\n",
       " 753: 'High Dessert Droids',\n",
       " 847: 'PHRED',\n",
       " 948: 'Newport Robotics Group',\n",
       " 949: 'Wolvorine Robotics',\n",
       " 955: 'CV Robotics',\n",
       " 997: 'Spartan Robotics',\n",
       " 1318: 'Issaquah Robotics Society',\n",
       " 1359: 'Scalawags'}"
      ]
     },
     "execution_count": 22,
     "metadata": {},
     "output_type": "execute_result"
    }
   ],
   "source": [
    "# Ex II.3:\n",
    "del teams[1294]\n",
    "teams"
   ]
  },
  {
   "cell_type": "markdown",
   "metadata": {},
   "source": [
    "**Ex. II.4.** Create a dictionary of fictional characters from books, movies, or TV shows. The key will be the name of the character and the value will be the title of the book, movie, or TV show in which the character is featured."
   ]
  },
  {
   "cell_type": "code",
   "execution_count": 38,
   "metadata": {},
   "outputs": [
    {
     "data": {
      "text/plain": [
       "{'penguin': 'batman returns',\n",
       " \"gravin D'Amato\": 'war of the roses',\n",
       " 'Owen': 'throw mamma from the train',\n",
       " 'Mr.wormwood': 'matilda'}"
      ]
     },
     "execution_count": 38,
     "metadata": {},
     "output_type": "execute_result"
    }
   ],
   "source": [
    "# Ex II.4:\n",
    "names = dict({(\"Mr.wormwood\",\"matilda\"),(\"Owen\",\"throw mamma from the train\"),\n",
    "        (\"gravin D'Amato\",\"war of the roses\"),(\"penguin\",\"batman returns\")})\n",
    "names\n"
   ]
  },
  {
   "cell_type": "markdown",
   "metadata": {},
   "source": [
    "**Ex. II.5.** Pick one of the characters in your dictionary and print a sentence that includes the characters name and the title of the book, movie, or TV show in which they are featured. Use your dictionary to get the title (don't type it in manually)."
   ]
  },
  {
   "cell_type": "code",
   "execution_count": 39,
   "metadata": {},
   "outputs": [
    {
     "name": "stdout",
     "output_type": "stream",
     "text": [
      "batman returns\n"
     ]
    }
   ],
   "source": [
    "# Ex II.5:\n",
    "print(names[\"penguin\"])\n"
   ]
  },
  {
   "cell_type": "markdown",
   "metadata": {},
   "source": [
    "**Ex. II.6.** Use a *for* loop to print a list of the character names."
   ]
  },
  {
   "cell_type": "code",
   "execution_count": 43,
   "metadata": {},
   "outputs": [
    {
     "name": "stdout",
     "output_type": "stream",
     "text": [
      "batman returns\n",
      "war of the roses\n",
      "throw mamma from the train\n",
      "matilda\n"
     ]
    }
   ],
   "source": [
    "# Ex II.6:\n",
    "for name in names:\n",
    "    print(name)\n"
   ]
  },
  {
   "cell_type": "markdown",
   "metadata": {},
   "source": [
    "**Ex. II.7.** Use a *for* loop to print a list of the titles."
   ]
  },
  {
   "cell_type": "code",
   "execution_count": 44,
   "metadata": {},
   "outputs": [
    {
     "name": "stdout",
     "output_type": "stream",
     "text": [
      "batman returns\n",
      "war of the roses\n",
      "throw mamma from the train\n",
      "matilda\n"
     ]
    }
   ],
   "source": [
    "# Ex II.7:\n",
    "for name in names.values():\n",
    "    print(name)\n"
   ]
  },
  {
   "cell_type": "markdown",
   "metadata": {},
   "source": [
    "**Ex. II.8.** Use a *for* loop to print a sentence for each character. The sentence should include both the character's name and the title of the book, movie, or TV show in which they are featured."
   ]
  },
  {
   "cell_type": "code",
   "execution_count": 48,
   "metadata": {},
   "outputs": [
    {
     "name": "stdout",
     "output_type": "stream",
     "text": [
      "Danny DaVito plays penguin in batman returns\n",
      "Danny DaVito plays gravin D'Amato in war of the roses\n",
      "Danny DaVito plays Owen in throw mamma from the train\n",
      "Danny DaVito plays Mr.wormwood in matilda\n"
     ]
    }
   ],
   "source": [
    "# Ex II.8:\n",
    "for name, title in names.items():\n",
    "    print(\"Danny DaVito plays\",name,\"in\",title, sep=\" \")\n"
   ]
  },
  {
   "cell_type": "markdown",
   "metadata": {},
   "source": [
    "**Ex. II.9.** Using the `teams` dictionary, find the FRC team name that comes last in alphabetical order.\n",
    "\n",
    "Hints:\n",
    "* Strings can be compared with `<`, `=`, and `>` operators to determine alphabetical order *if the characters are all the same case.* Consider using the string ojects `.uppper()` or `.lower()` methods."
   ]
  },
  {
   "cell_type": "code",
   "execution_count": 52,
   "metadata": {},
   "outputs": [
    {
     "name": "stdout",
     "output_type": "stream",
     "text": [
      "wolvorine robotics\n"
     ]
    }
   ],
   "source": [
    "# Ex II.9:\n",
    "preteam = \"a\"\n",
    "for team in teams.values():\n",
    "    team = team.lower()\n",
    "    if team > preteam:\n",
    "        preteam = team\n",
    "print(preteam)\n",
    "        \n",
    "        \n",
    "    \n"
   ]
  },
  {
   "cell_type": "markdown",
   "metadata": {},
   "source": [
    "## III. Tuples\n",
    "### A. Introduction to Tuples\n",
    "A tuple (pronounced *too-pul*, not *tuh-pul*) is an ordered sequence of items, similar to a list. Tuples are written with parentheses instead of square brackets."
   ]
  },
  {
   "cell_type": "code",
   "execution_count": null,
   "metadata": {},
   "outputs": [],
   "source": [
    "# Our first tuple\n",
    "# The parenthesis tell Python that the sequence should be a\n",
    "#   tuple (instead of a list)\n",
    "tuple1 = (1, 2, 3, 4, 5)\n",
    "\n",
    "print(\"Data type:\", type(tuple1))\n",
    "print(\"Tuple data:\", tuple1)\n",
    "print(\"Tuple length:\", len(tuple1))\n",
    "print(\"First tuple element:\", tuple1[0])\n",
    "print(\"Last tuple element:\", tuple1[-1])\n",
    "print(\"Middle tuple elements:\", tuple1[1:4])"
   ]
  },
  {
   "cell_type": "markdown",
   "metadata": {},
   "source": [
    "In many ways, we can use tuples just like we use lists. We can access individual tuple items with square brackets and integer indices, e.g., `tuple1[1]` gets the second element. We can also use the `len()` function to get the length of a tuple. Tuples and lists are both considered to be *sequence types*."
   ]
  },
  {
   "cell_type": "markdown",
   "metadata": {},
   "source": [
    "### B. Immutability of Tuples\n",
    "You may be wondering why we have tuples if we already have lists. That's a good question. To understand the answer, we need to know a bit more about Python data types.\n",
    "\n",
    "The short answer to the question of why we need both tuples and lists is that tuples are immutable and lists are mutable. Immutable objects like tuples cannot be changed after they are created. Mutable objects like lists can be changed. Run both code cells below for a demonstration."
   ]
  },
  {
   "cell_type": "code",
   "execution_count": 53,
   "metadata": {},
   "outputs": [
    {
     "name": "stdout",
     "output_type": "stream",
     "text": [
      "list2's ID value: 1563606302016\n",
      "list2 has been changed: ['new value', 9, 8, 7, 6]\n",
      "list2's ID value is still the same: 1563606302016\n"
     ]
    }
   ],
   "source": [
    "# Mutability Example\n",
    "list2 = [10, 9, 8, 7, 6]\n",
    "\n",
    "# We can change an item in the list\n",
    "# The ID value will stay the same, meaning the list2\n",
    "#   refers to the same object in memory before and after\n",
    "#   the change.\n",
    "print(\"list2's ID value:\", id(list2))\n",
    "list2[0] = \"new value\"\n",
    "print(\"list2 has been changed:\", list2)\n",
    "print(\"list2's ID value is still the same:\", id(list2))"
   ]
  },
  {
   "cell_type": "code",
   "execution_count": 54,
   "metadata": {},
   "outputs": [
    {
     "ename": "TypeError",
     "evalue": "'tuple' object does not support item assignment",
     "output_type": "error",
     "traceback": [
      "\u001b[1;31m---------------------------------------------------------------------------\u001b[0m",
      "\u001b[1;31mTypeError\u001b[0m                                 Traceback (most recent call last)",
      "\u001b[1;32m~\\AppData\\Local\\Temp/ipykernel_19892/3609191311.py\u001b[0m in \u001b[0;36m<module>\u001b[1;34m\u001b[0m\n\u001b[0;32m      3\u001b[0m \u001b[1;33m\u001b[0m\u001b[0m\n\u001b[0;32m      4\u001b[0m \u001b[1;31m# Attempting to change a tuple element will cause an error!\u001b[0m\u001b[1;33m\u001b[0m\u001b[1;33m\u001b[0m\u001b[1;33m\u001b[0m\u001b[0m\n\u001b[1;32m----> 5\u001b[1;33m \u001b[0mtuple2\u001b[0m\u001b[1;33m[\u001b[0m\u001b[1;36m0\u001b[0m\u001b[1;33m]\u001b[0m \u001b[1;33m=\u001b[0m \u001b[1;34m\"new value\"\u001b[0m\u001b[1;33m\u001b[0m\u001b[1;33m\u001b[0m\u001b[0m\n\u001b[0m",
      "\u001b[1;31mTypeError\u001b[0m: 'tuple' object does not support item assignment"
     ]
    }
   ],
   "source": [
    "# Immutability Example\n",
    "tuple2 = (10, 9, 8, 7, 6)\n",
    "\n",
    "# Attempting to change a tuple element will cause an error!\n",
    "tuple2[0] = \"new value\""
   ]
  },
  {
   "cell_type": "code",
   "execution_count": 55,
   "metadata": {},
   "outputs": [
    {
     "ename": "AttributeError",
     "evalue": "'tuple' object has no attribute 'append'",
     "output_type": "error",
     "traceback": [
      "\u001b[1;31m---------------------------------------------------------------------------\u001b[0m",
      "\u001b[1;31mAttributeError\u001b[0m                            Traceback (most recent call last)",
      "\u001b[1;32m~\\AppData\\Local\\Temp/ipykernel_19892/3739813798.py\u001b[0m in \u001b[0;36m<module>\u001b[1;34m\u001b[0m\n\u001b[0;32m      1\u001b[0m \u001b[1;31m# Attempting to append an item to a tuple will cause an error!\u001b[0m\u001b[1;33m\u001b[0m\u001b[1;33m\u001b[0m\u001b[1;33m\u001b[0m\u001b[0m\n\u001b[1;32m----> 2\u001b[1;33m \u001b[0mtuple2\u001b[0m\u001b[1;33m.\u001b[0m\u001b[0mappend\u001b[0m\u001b[1;33m(\u001b[0m\u001b[1;36m5\u001b[0m\u001b[1;33m)\u001b[0m\u001b[1;33m\u001b[0m\u001b[1;33m\u001b[0m\u001b[0m\n\u001b[0m",
      "\u001b[1;31mAttributeError\u001b[0m: 'tuple' object has no attribute 'append'"
     ]
    }
   ],
   "source": [
    "# Attempting to append an item to a tuple will cause an error!\n",
    "tuple2.append(5)"
   ]
  },
  {
   "cell_type": "markdown",
   "metadata": {},
   "source": [
    "Now you are probably wondering why we need immutable objects. There are several advantages to having an immutable sequence data type (i.e., tuple) in the Python language.\n",
    "* If we know that a sequence should never change, then using a tuple instead of a list to represent the sequence guarantees it will never change. We won't have to write extra code to check that the sequence stayed the same.\n",
    "* Using a tuple instead of a list makes it clear to someone reading the code that the sequence will never change.\n",
    "* Immutable data types, like tuples, can be used as dictionary keys. Mutable data types like lists cannot be used as dictionary keys. We'll discuss why you might want to use a tuple as a dictionary key later on.\n",
    "\n",
    "There are some materials online suggesting that because tuples are immutable, they take less memory and can be manipulated faster. The memory and speed advantages of tuples over lists are small. The mentor suspects that unless you are creating a hundred-thousand sequences or more, you won't notice the memory or speed advantage.\n",
    "\n",
    "There are other materials online (including the official Python tutorial) suggesting that lists are intended for homogeneous sequences, where all list items are the same data type, and tuples are intended for heterogeneous sequences. See below for examples of heterogeneous and homogeneous sequences."
   ]
  },
  {
   "cell_type": "code",
   "execution_count": 56,
   "metadata": {},
   "outputs": [
    {
     "name": "stdout",
     "output_type": "stream",
     "text": [
      "Homogeneous Sequences\n",
      "tuple: (1, 2, 3)\n",
      "list: ('This', 'list', 'is', 'homogeneous')\n",
      "\n",
      "Heterogeneous Sequences\n",
      "tuple: (1, 3.14, 'five')\n",
      "list: ['99', None, False]\n"
     ]
    }
   ],
   "source": [
    "# Homogeneous and Heterogeneous Sequences\n",
    "\n",
    "# Homogeneous\n",
    "homogeneous_tuple = (1, 2, 3)\n",
    "homogeneous_list = (\"This\", \"list\", \"is\", \"homogeneous\")\n",
    "print(\"Homogeneous Sequences\")\n",
    "print(\"tuple:\", homogeneous_tuple)\n",
    "print(\"list:\", homogeneous_list)\n",
    "print()\n",
    "\n",
    "# Heterogeneous\n",
    "heterogeneous_tuple = (1, 3.14, \"five\")\n",
    "heterogeneous_list = [\"99\", None, False]\n",
    "print(\"Heterogeneous Sequences\")\n",
    "print(\"tuple:\", heterogeneous_tuple)\n",
    "print(\"list:\", heterogeneous_list)"
   ]
  },
  {
   "cell_type": "markdown",
   "metadata": {},
   "source": [
    "The mentor doesn't buy the argument that lists should be homogeneous and tuples are should be heterogeneous. The example above shows that both lists and tuples support heterogeneous sequences just fine. Furthermore, the mentor has used heterogeneous lists in his own projects and has never encountered any problem from doing so."
   ]
  },
  {
   "cell_type": "markdown",
   "metadata": {},
   "source": [
    "### C. Tuple Packing and Unpacking\n",
    "Tuples are used frequently in Python. Sometimes you don't even notice them. Remember our program for calculating the terms of the Fibonacci sequence? The version in the Python tutorial is slightly different, as shown below."
   ]
  },
  {
   "cell_type": "code",
   "execution_count": 1,
   "metadata": {},
   "outputs": [
    {
     "name": "stdout",
     "output_type": "stream",
     "text": [
      "0\n",
      "1\n",
      "1\n",
      "2\n",
      "3\n",
      "5\n",
      "8\n"
     ]
    }
   ],
   "source": [
    "# Fibonacci series:\n",
    "# the sum of two elements defines the next\n",
    "a, b = 0, 1\n",
    "while a < 10:\n",
    "    print(a)\n",
    "    a, b = b, a+b  # This statement uses tuples."
   ]
  },
  {
   "cell_type": "markdown",
   "metadata": {},
   "source": [
    "See the statement `a, b = 0, 1`? This single statement assigns two different values to two different variables. This is an example of two techniques: tuple packing and tuple unpacking.\n",
    "\n",
    "You don't always actually need parentheses to create a tuple, but you must have a comma. Run the next cell."
   ]
  },
  {
   "cell_type": "code",
   "execution_count": 2,
   "metadata": {},
   "outputs": [
    {
     "name": "stdout",
     "output_type": "stream",
     "text": [
      "Single element tuple\n",
      "Data Type: <class 'tuple'>\n",
      "Value: 5\n",
      "\n",
      "Tuple Packing\n",
      "Data Type: <class 'tuple'>\n",
      "Data ('this', 'is', 'tuple', 'packing')\n",
      "\n",
      "Tuple Unpacking\n",
      "Data Type: <class 'str'>\n",
      "Unpacked Tuple data: this is tuple un- packing\n",
      "\n",
      "List Unpacking\n",
      "Unpacked list data: 1 2\n"
     ]
    }
   ],
   "source": [
    "# Creating Tuples\n",
    "\n",
    "# Placing a comma after a value creates a tuple of length 1\n",
    "print(\"Single element tuple\")\n",
    "tuple3 = 5,\n",
    "print(\"Data Type:\", type(tuple3))\n",
    "print(\"Value:\", tuple3[0])\n",
    "print()\n",
    "\n",
    "# Tuple packing: packing multiple values into a tuple.\n",
    "print(\"Tuple Packing\")\n",
    "tuple4 = \"this\", \"is\", \"tuple\", \"packing\"\n",
    "print(\"Data Type:\", type(tuple4))\n",
    "print(\"Data\", tuple4)\n",
    "print()\n",
    "\n",
    "# Tuple unpacking: extracting multiple values from a tuple.\n",
    "print(\"Tuple Unpacking\")\n",
    "wd1, wd2, wd3, wd4 = tuple4\n",
    "print(\"Data Type:\", type(wd1))\n",
    "print(\"Unpacked Tuple data:\", wd1, wd2, wd3, \"un-\", wd4)\n",
    "print()\n",
    "\n",
    "# Lists can be unpacked as well\n",
    "print(\"List Unpacking\")\n",
    "list3 = [1, 2]\n",
    "num1, num2 = list3\n",
    "print(\"Unpacked list data:\", num1, num2)"
   ]
  },
  {
   "cell_type": "markdown",
   "metadata": {},
   "source": [
    "Separating different values with commas causes Python to combine the items into a tuple. Using commas on the left side of an assignment statement to separate variables causes Python to extract the items from the tuple or list and assign them to the separate variables. The number of variables must match the length of the list or tuple, or else Python will throw an error."
   ]
  },
  {
   "cell_type": "code",
   "execution_count": 3,
   "metadata": {},
   "outputs": [
    {
     "ename": "ValueError",
     "evalue": "too many values to unpack (expected 2)",
     "output_type": "error",
     "traceback": [
      "\u001b[1;31m---------------------------------------------------------------------------\u001b[0m",
      "\u001b[1;31mValueError\u001b[0m                                Traceback (most recent call last)",
      "\u001b[1;32m~\\AppData\\Local\\Temp/ipykernel_14456/1089577438.py\u001b[0m in \u001b[0;36m<module>\u001b[1;34m\u001b[0m\n\u001b[0;32m      1\u001b[0m \u001b[1;31m# Error if number of variables does not match length of tuple\u001b[0m\u001b[1;33m\u001b[0m\u001b[1;33m\u001b[0m\u001b[1;33m\u001b[0m\u001b[0m\n\u001b[0;32m      2\u001b[0m \u001b[1;31m#   or list during unpacking\u001b[0m\u001b[1;33m\u001b[0m\u001b[1;33m\u001b[0m\u001b[1;33m\u001b[0m\u001b[0m\n\u001b[1;32m----> 3\u001b[1;33m \u001b[0mv1\u001b[0m\u001b[1;33m,\u001b[0m \u001b[0mv2\u001b[0m \u001b[1;33m=\u001b[0m \u001b[1;33m(\u001b[0m\u001b[1;36m1\u001b[0m\u001b[1;33m,\u001b[0m \u001b[1;36m2\u001b[0m\u001b[1;33m,\u001b[0m \u001b[1;36m3\u001b[0m\u001b[1;33m)\u001b[0m\u001b[1;33m\u001b[0m\u001b[1;33m\u001b[0m\u001b[0m\n\u001b[0m",
      "\u001b[1;31mValueError\u001b[0m: too many values to unpack (expected 2)"
     ]
    }
   ],
   "source": [
    "# Error if number of variables does not match length of tuple\n",
    "#   or list during unpacking\n",
    "v1, v2 = (1, 2, 3)"
   ]
  },
  {
   "cell_type": "markdown",
   "metadata": {},
   "source": [
    "Tuple packing and unpacking is used frequently in Python and allows for compact code. Consider variable swapping. In many programming languages, three lines of code are required to swap the values in two variables."
   ]
  },
  {
   "cell_type": "code",
   "execution_count": 4,
   "metadata": {},
   "outputs": [
    {
     "name": "stdout",
     "output_type": "stream",
     "text": [
      "After first swap: 4 3\n",
      "After second swap: 3 4\n"
     ]
    }
   ],
   "source": [
    "# Variable Swapping Example\n",
    "# Setup\n",
    "v3 = 3\n",
    "v4 = 4\n",
    "\n",
    "# Traditional swapping\n",
    "swap = v3\n",
    "v3 = v4\n",
    "v4 = swap\n",
    "print(\"After first swap:\", v3, v4)\n",
    "\n",
    "# Swapping with tuple unpacking\n",
    "v3, v4 = v4, v3\n",
    "print(\"After second swap:\", v3, v4)"
   ]
  },
  {
   "cell_type": "markdown",
   "metadata": {},
   "source": [
    "The traditional method for variable swapping requires using a third temporary variable (`swap` in our example) to hold one of the values during the swap. But in Python we can swap variables by packing both values into a tuple and then unpacking the tuple in reverse order.\n",
    "\n",
    "We can also use tuple packing and unpacking with the `return` statement."
   ]
  },
  {
   "cell_type": "code",
   "execution_count": 5,
   "metadata": {},
   "outputs": [
    {
     "name": "stdout",
     "output_type": "stream",
     "text": [
      "<class 'tuple'>\n",
      "Unpacked Return Values: thing1 thing2\n"
     ]
    }
   ],
   "source": [
    "# Packing and Unpacking with return statements.\n",
    "def return_two_things():\n",
    "    return \"thing1\", \"thing2\"\n",
    "\n",
    "print(type(return_two_things()))\n",
    "t1, t2 = return_two_things()\n",
    "print(\"Unpacked Return Values:\", t1, t2)"
   ]
  },
  {
   "cell_type": "markdown",
   "metadata": {},
   "source": [
    "### D. The `tuple()` Function\n",
    "Just like all other Python built-in data types, there is a `tuple()` function that will create a tuple from a list other iterable item."
   ]
  },
  {
   "cell_type": "code",
   "execution_count": 6,
   "metadata": {},
   "outputs": [
    {
     "name": "stdout",
     "output_type": "stream",
     "text": [
      "List data type: <class 'list'>\n",
      "Data type after conversion with tuple(): <class 'tuple'>\n"
     ]
    }
   ],
   "source": [
    "# tuple() function examples\n",
    "list5 = [1, 2, 3]\n",
    "print(\"List data type:\", type(list5))\n",
    "print(\"Data type after conversion with tuple():\", type(tuple(list5)))"
   ]
  },
  {
   "cell_type": "markdown",
   "metadata": {},
   "source": [
    "### E. Python Tutorial on Tuples\n",
    "Work through [section 5.3 of the official Python tutorial on tuples](https://docs.python.org/3/tutorial/datastructures.html#tuples-and-sequences). Practice the examples from the tutorial below."
   ]
  },
  {
   "cell_type": "code",
   "execution_count": null,
   "metadata": {},
   "outputs": [],
   "source": [
    "# Python Tutorial Tuple Examples\n",
    "\n"
   ]
  },
  {
   "cell_type": "markdown",
   "metadata": {},
   "source": [
    "## IV. Putting Composite Data Types in Other Composite Data Types\n",
    "One of the interesting things about composite data types is they can contain other composite data types. Dictionaries and lists are often combined to make very interesting and sophisticated data types.\n",
    "\n",
    "Let's look at an example. Run the cell below to load some data from a text file. This cell has some extra code that allows it to run on your local computer and on Google Colab."
   ]
  },
  {
   "cell_type": "code",
   "execution_count": 7,
   "metadata": {},
   "outputs": [
    {
     "name": "stdout",
     "output_type": "stream",
     "text": [
      "Data type of sched: <class 'dict'>\n"
     ]
    }
   ],
   "source": [
    "# The code below loads data from a text file and converts the\n",
    "#   text data to a Python composite data structure. We will cover\n",
    "#   the techniques used here in detail later on in the course.\n",
    "import json\n",
    "import urllib.request\n",
    "\n",
    "try:\n",
    "    # This section works if running notebook on local computer\n",
    "    with open(\"wasno2020.json\", \"rt\") as sched_file:\n",
    "        sched = json.load(sched_file)\n",
    "except FileNotFoundError:\n",
    "    # This section takes over if using Google Colab\n",
    "    url = (\"https://raw.githubusercontent.com/irs1318dev/pyclass_frc/master/\"\n",
    "           \"sessions/s07_composite_data/wasno2020.json\")\n",
    "    with urllib.request.urlopen(url) as response:\n",
    "        sched = json.load(response)\n",
    "\n",
    "print(\"Data type of sched:\", type(sched))"
   ]
  },
  {
   "cell_type": "markdown",
   "metadata": {},
   "source": [
    "We can see that the data from the text file has been converted into a Python dictionary. Run the next cell to see it's content."
   ]
  },
  {
   "cell_type": "code",
   "execution_count": 8,
   "metadata": {},
   "outputs": [
    {
     "data": {
      "text/plain": [
       "{'Schedule': [{'description': 'Qualification 1',\n",
       "   'field': 'Primary',\n",
       "   'tournamentLevel': 'Qualification',\n",
       "   'startTime': '2020-02-29T11:00:00',\n",
       "   'matchNumber': 1,\n",
       "   'teams': [{'teamNumber': 4131, 'station': 'Red1', 'surrogate': False},\n",
       "    {'teamNumber': 4683, 'station': 'Red2', 'surrogate': False},\n",
       "    {'teamNumber': 2412, 'station': 'Red3', 'surrogate': False},\n",
       "    {'teamNumber': 1318, 'station': 'Blue1', 'surrogate': False},\n",
       "    {'teamNumber': 4089, 'station': 'Blue2', 'surrogate': False},\n",
       "    {'teamNumber': 8059, 'station': 'Blue3', 'surrogate': False}]},\n",
       "  {'description': 'Qualification 2',\n",
       "   'field': 'Primary',\n",
       "   'tournamentLevel': 'Qualification',\n",
       "   'startTime': '2020-02-29T11:09:00',\n",
       "   'matchNumber': 2,\n",
       "   'teams': [{'teamNumber': 4205, 'station': 'Red1', 'surrogate': False},\n",
       "    {'teamNumber': 4180, 'station': 'Red2', 'surrogate': False},\n",
       "    {'teamNumber': 2910, 'station': 'Red3', 'surrogate': False},\n",
       "    {'teamNumber': 3826, 'station': 'Blue1', 'surrogate': False},\n",
       "    {'teamNumber': 2928, 'station': 'Blue2', 'surrogate': False},\n",
       "    {'teamNumber': 7118, 'station': 'Blue3', 'surrogate': False}]},\n",
       "  {'description': 'Qualification 3',\n",
       "   'field': 'Primary',\n",
       "   'tournamentLevel': 'Qualification',\n",
       "   'startTime': '2020-02-29T11:18:00',\n",
       "   'matchNumber': 3,\n",
       "   'teams': [{'teamNumber': 4918, 'station': 'Red1', 'surrogate': False},\n",
       "    {'teamNumber': 4173, 'station': 'Red2', 'surrogate': False},\n",
       "    {'teamNumber': 4513, 'station': 'Red3', 'surrogate': False},\n",
       "    {'teamNumber': 4512, 'station': 'Blue1', 'surrogate': False},\n",
       "    {'teamNumber': 1294, 'station': 'Blue2', 'surrogate': False},\n",
       "    {'teamNumber': 4309, 'station': 'Blue3', 'surrogate': False}]},\n",
       "  {'description': 'Qualification 4',\n",
       "   'field': 'Primary',\n",
       "   'tournamentLevel': 'Qualification',\n",
       "   'startTime': '2020-02-29T11:27:00',\n",
       "   'matchNumber': 4,\n",
       "   'teams': [{'teamNumber': 2522, 'station': 'Red1', 'surrogate': False},\n",
       "    {'teamNumber': 5588, 'station': 'Red2', 'surrogate': False},\n",
       "    {'teamNumber': 8032, 'station': 'Red3', 'surrogate': False},\n",
       "    {'teamNumber': 1778, 'station': 'Blue1', 'surrogate': False},\n",
       "    {'teamNumber': 2903, 'station': 'Blue2', 'surrogate': False},\n",
       "    {'teamNumber': 7627, 'station': 'Blue3', 'surrogate': False}]},\n",
       "  {'description': 'Qualification 5',\n",
       "   'field': 'Primary',\n",
       "   'tournamentLevel': 'Qualification',\n",
       "   'startTime': '2020-02-29T11:36:00',\n",
       "   'matchNumber': 5,\n",
       "   'teams': [{'teamNumber': 4915, 'station': 'Red1', 'surrogate': False},\n",
       "    {'teamNumber': 492, 'station': 'Red2', 'surrogate': False},\n",
       "    {'teamNumber': 949, 'station': 'Red3', 'surrogate': False},\n",
       "    {'teamNumber': 4682, 'station': 'Blue1', 'surrogate': False},\n",
       "    {'teamNumber': 3070, 'station': 'Blue2', 'surrogate': False},\n",
       "    {'teamNumber': 8248, 'station': 'Blue3', 'surrogate': False}]},\n",
       "  {'description': 'Qualification 6',\n",
       "   'field': 'Primary',\n",
       "   'tournamentLevel': 'Qualification',\n",
       "   'startTime': '2020-02-29T11:45:00',\n",
       "   'matchNumber': 6,\n",
       "   'teams': [{'teamNumber': 2930, 'station': 'Red1', 'surrogate': False},\n",
       "    {'teamNumber': 4681, 'station': 'Red2', 'surrogate': False},\n",
       "    {'teamNumber': 4911, 'station': 'Red3', 'surrogate': False},\n",
       "    {'teamNumber': 1899, 'station': 'Blue1', 'surrogate': False},\n",
       "    {'teamNumber': 3268, 'station': 'Blue2', 'surrogate': False},\n",
       "    {'teamNumber': 7461, 'station': 'Blue3', 'surrogate': False}]},\n",
       "  {'description': 'Qualification 7',\n",
       "   'field': 'Primary',\n",
       "   'tournamentLevel': 'Qualification',\n",
       "   'startTime': '2020-02-29T11:54:00',\n",
       "   'matchNumber': 7,\n",
       "   'teams': [{'teamNumber': 2976, 'station': 'Red1', 'surrogate': False},\n",
       "    {'teamNumber': 4131, 'station': 'Red2', 'surrogate': False},\n",
       "    {'teamNumber': 4089, 'station': 'Red3', 'surrogate': False},\n",
       "    {'teamNumber': 4309, 'station': 'Blue1', 'surrogate': False},\n",
       "    {'teamNumber': 1778, 'station': 'Blue2', 'surrogate': False},\n",
       "    {'teamNumber': 2910, 'station': 'Blue3', 'surrogate': False}]},\n",
       "  {'description': 'Qualification 8',\n",
       "   'field': 'Primary',\n",
       "   'tournamentLevel': 'Qualification',\n",
       "   'startTime': '2020-02-29T12:03:00',\n",
       "   'matchNumber': 8,\n",
       "   'teams': [{'teamNumber': 8248, 'station': 'Red1', 'surrogate': False},\n",
       "    {'teamNumber': 1294, 'station': 'Red2', 'surrogate': False},\n",
       "    {'teamNumber': 4918, 'station': 'Red3', 'surrogate': False},\n",
       "    {'teamNumber': 4180, 'station': 'Blue1', 'surrogate': False},\n",
       "    {'teamNumber': 5588, 'station': 'Blue2', 'surrogate': False},\n",
       "    {'teamNumber': 4682, 'station': 'Blue3', 'surrogate': False}]},\n",
       "  {'description': 'Qualification 9',\n",
       "   'field': 'Primary',\n",
       "   'tournamentLevel': 'Qualification',\n",
       "   'startTime': '2020-02-29T12:11:00',\n",
       "   'matchNumber': 9,\n",
       "   'teams': [{'teamNumber': 2930, 'station': 'Red1', 'surrogate': False},\n",
       "    {'teamNumber': 3268, 'station': 'Red2', 'surrogate': False},\n",
       "    {'teamNumber': 3826, 'station': 'Red3', 'surrogate': False},\n",
       "    {'teamNumber': 8032, 'station': 'Blue1', 'surrogate': False},\n",
       "    {'teamNumber': 1318, 'station': 'Blue2', 'surrogate': False},\n",
       "    {'teamNumber': 4512, 'station': 'Blue3', 'surrogate': False}]},\n",
       "  {'description': 'Qualification 10',\n",
       "   'field': 'Primary',\n",
       "   'tournamentLevel': 'Qualification',\n",
       "   'startTime': '2020-02-29T12:19:00',\n",
       "   'matchNumber': 10,\n",
       "   'teams': [{'teamNumber': 1899, 'station': 'Red1', 'surrogate': False},\n",
       "    {'teamNumber': 4915, 'station': 'Red2', 'surrogate': False},\n",
       "    {'teamNumber': 8059, 'station': 'Red3', 'surrogate': False},\n",
       "    {'teamNumber': 7461, 'station': 'Blue1', 'surrogate': False},\n",
       "    {'teamNumber': 2412, 'station': 'Blue2', 'surrogate': False},\n",
       "    {'teamNumber': 4513, 'station': 'Blue3', 'surrogate': False}]},\n",
       "  {'description': 'Qualification 11',\n",
       "   'field': 'Primary',\n",
       "   'tournamentLevel': 'Qualification',\n",
       "   'startTime': '2020-02-29T12:27:00',\n",
       "   'matchNumber': 11,\n",
       "   'teams': [{'teamNumber': 2928, 'station': 'Red1', 'surrogate': False},\n",
       "    {'teamNumber': 4681, 'station': 'Red2', 'surrogate': False},\n",
       "    {'teamNumber': 4205, 'station': 'Red3', 'surrogate': False},\n",
       "    {'teamNumber': 2522, 'station': 'Blue1', 'surrogate': False},\n",
       "    {'teamNumber': 2976, 'station': 'Blue2', 'surrogate': False},\n",
       "    {'teamNumber': 3070, 'station': 'Blue3', 'surrogate': False}]},\n",
       "  {'description': 'Qualification 12',\n",
       "   'field': 'Primary',\n",
       "   'tournamentLevel': 'Qualification',\n",
       "   'startTime': '2020-02-29T12:35:00',\n",
       "   'matchNumber': 12,\n",
       "   'teams': [{'teamNumber': 492, 'station': 'Red1', 'surrogate': False},\n",
       "    {'teamNumber': 7118, 'station': 'Red2', 'surrogate': False},\n",
       "    {'teamNumber': 7627, 'station': 'Red3', 'surrogate': False},\n",
       "    {'teamNumber': 4911, 'station': 'Blue1', 'surrogate': False},\n",
       "    {'teamNumber': 2903, 'station': 'Blue2', 'surrogate': False},\n",
       "    {'teamNumber': 4173, 'station': 'Blue3', 'surrogate': False}]},\n",
       "  {'description': 'Qualification 13',\n",
       "   'field': 'Primary',\n",
       "   'tournamentLevel': 'Qualification',\n",
       "   'startTime': '2020-02-29T12:43:00',\n",
       "   'matchNumber': 13,\n",
       "   'teams': [{'teamNumber': 4683, 'station': 'Red1', 'surrogate': False},\n",
       "    {'teamNumber': 4512, 'station': 'Red2', 'surrogate': False},\n",
       "    {'teamNumber': 7461, 'station': 'Red3', 'surrogate': False},\n",
       "    {'teamNumber': 949, 'station': 'Blue1', 'surrogate': False},\n",
       "    {'teamNumber': 4309, 'station': 'Blue2', 'surrogate': False},\n",
       "    {'teamNumber': 4180, 'station': 'Blue3', 'surrogate': False}]},\n",
       "  {'description': 'Qualification 14',\n",
       "   'field': 'Primary',\n",
       "   'tournamentLevel': 'Qualification',\n",
       "   'startTime': '2020-02-29T12:51:00',\n",
       "   'matchNumber': 14,\n",
       "   'teams': [{'teamNumber': 4682, 'station': 'Red1', 'surrogate': False},\n",
       "    {'teamNumber': 2928, 'station': 'Red2', 'surrogate': False},\n",
       "    {'teamNumber': 8059, 'station': 'Red3', 'surrogate': False},\n",
       "    {'teamNumber': 2930, 'station': 'Blue1', 'surrogate': False},\n",
       "    {'teamNumber': 5588, 'station': 'Blue2', 'surrogate': False},\n",
       "    {'teamNumber': 4089, 'station': 'Blue3', 'surrogate': False}]},\n",
       "  {'description': 'Qualification 15',\n",
       "   'field': 'Primary',\n",
       "   'tournamentLevel': 'Qualification',\n",
       "   'startTime': '2020-02-29T14:00:00',\n",
       "   'matchNumber': 15,\n",
       "   'teams': [{'teamNumber': 2522, 'station': 'Red1', 'surrogate': False},\n",
       "    {'teamNumber': 4918, 'station': 'Red2', 'surrogate': False},\n",
       "    {'teamNumber': 2903, 'station': 'Red3', 'surrogate': False},\n",
       "    {'teamNumber': 2910, 'station': 'Blue1', 'surrogate': False},\n",
       "    {'teamNumber': 1318, 'station': 'Blue2', 'surrogate': False},\n",
       "    {'teamNumber': 3070, 'station': 'Blue3', 'surrogate': False}]},\n",
       "  {'description': 'Qualification 16',\n",
       "   'field': 'Primary',\n",
       "   'tournamentLevel': 'Qualification',\n",
       "   'startTime': '2020-02-29T14:07:00',\n",
       "   'matchNumber': 16,\n",
       "   'teams': [{'teamNumber': 7118, 'station': 'Red1', 'surrogate': False},\n",
       "    {'teamNumber': 1899, 'station': 'Red2', 'surrogate': False},\n",
       "    {'teamNumber': 1294, 'station': 'Red3', 'surrogate': False},\n",
       "    {'teamNumber': 8248, 'station': 'Blue1', 'surrogate': False},\n",
       "    {'teamNumber': 949, 'station': 'Blue2', 'surrogate': False},\n",
       "    {'teamNumber': 4683, 'station': 'Blue3', 'surrogate': False}]},\n",
       "  {'description': 'Qualification 17',\n",
       "   'field': 'Primary',\n",
       "   'tournamentLevel': 'Qualification',\n",
       "   'startTime': '2020-02-29T14:14:00',\n",
       "   'matchNumber': 17,\n",
       "   'teams': [{'teamNumber': 1778, 'station': 'Red1', 'surrogate': False},\n",
       "    {'teamNumber': 2976, 'station': 'Red2', 'surrogate': False},\n",
       "    {'teamNumber': 2412, 'station': 'Red3', 'surrogate': False},\n",
       "    {'teamNumber': 4513, 'station': 'Blue1', 'surrogate': False},\n",
       "    {'teamNumber': 3826, 'station': 'Blue2', 'surrogate': False},\n",
       "    {'teamNumber': 492, 'station': 'Blue3', 'surrogate': False}]},\n",
       "  {'description': 'Qualification 18',\n",
       "   'field': 'Primary',\n",
       "   'tournamentLevel': 'Qualification',\n",
       "   'startTime': '2020-02-29T14:21:00',\n",
       "   'matchNumber': 18,\n",
       "   'teams': [{'teamNumber': 4915, 'station': 'Red1', 'surrogate': False},\n",
       "    {'teamNumber': 3268, 'station': 'Red2', 'surrogate': False},\n",
       "    {'teamNumber': 4681, 'station': 'Red3', 'surrogate': False},\n",
       "    {'teamNumber': 4173, 'station': 'Blue1', 'surrogate': False},\n",
       "    {'teamNumber': 4131, 'station': 'Blue2', 'surrogate': False},\n",
       "    {'teamNumber': 4205, 'station': 'Blue3', 'surrogate': False}]},\n",
       "  {'description': 'Qualification 19',\n",
       "   'field': 'Primary',\n",
       "   'tournamentLevel': 'Qualification',\n",
       "   'startTime': '2020-02-29T14:28:00',\n",
       "   'matchNumber': 19,\n",
       "   'teams': [{'teamNumber': 949, 'station': 'Red1', 'surrogate': False},\n",
       "    {'teamNumber': 4911, 'station': 'Red2', 'surrogate': False},\n",
       "    {'teamNumber': 8032, 'station': 'Red3', 'surrogate': False},\n",
       "    {'teamNumber': 7627, 'station': 'Blue1', 'surrogate': False},\n",
       "    {'teamNumber': 2928, 'station': 'Blue2', 'surrogate': False},\n",
       "    {'teamNumber': 4918, 'station': 'Blue3', 'surrogate': False}]},\n",
       "  {'description': 'Qualification 20',\n",
       "   'field': 'Primary',\n",
       "   'tournamentLevel': 'Qualification',\n",
       "   'startTime': '2020-02-29T14:35:00',\n",
       "   'matchNumber': 20,\n",
       "   'teams': [{'teamNumber': 2903, 'station': 'Red1', 'surrogate': False},\n",
       "    {'teamNumber': 4180, 'station': 'Red2', 'surrogate': False},\n",
       "    {'teamNumber': 1899, 'station': 'Red3', 'surrogate': False},\n",
       "    {'teamNumber': 2412, 'station': 'Blue1', 'surrogate': False},\n",
       "    {'teamNumber': 492, 'station': 'Blue2', 'surrogate': False},\n",
       "    {'teamNumber': 2910, 'station': 'Blue3', 'surrogate': False}]},\n",
       "  {'description': 'Qualification 21',\n",
       "   'field': 'Primary',\n",
       "   'tournamentLevel': 'Qualification',\n",
       "   'startTime': '2020-02-29T14:42:00',\n",
       "   'matchNumber': 21,\n",
       "   'teams': [{'teamNumber': 7461, 'station': 'Red1', 'surrogate': False},\n",
       "    {'teamNumber': 3826, 'station': 'Red2', 'surrogate': False},\n",
       "    {'teamNumber': 4682, 'station': 'Red3', 'surrogate': False},\n",
       "    {'teamNumber': 3070, 'station': 'Blue1', 'surrogate': False},\n",
       "    {'teamNumber': 4513, 'station': 'Blue2', 'surrogate': False},\n",
       "    {'teamNumber': 5588, 'station': 'Blue3', 'surrogate': False}]},\n",
       "  {'description': 'Qualification 22',\n",
       "   'field': 'Primary',\n",
       "   'tournamentLevel': 'Qualification',\n",
       "   'startTime': '2020-02-29T14:49:00',\n",
       "   'matchNumber': 22,\n",
       "   'teams': [{'teamNumber': 4309, 'station': 'Red1', 'surrogate': False},\n",
       "    {'teamNumber': 2930, 'station': 'Red2', 'surrogate': False},\n",
       "    {'teamNumber': 2976, 'station': 'Red3', 'surrogate': False},\n",
       "    {'teamNumber': 4131, 'station': 'Blue1', 'surrogate': False},\n",
       "    {'teamNumber': 8059, 'station': 'Blue2', 'surrogate': False},\n",
       "    {'teamNumber': 4911, 'station': 'Blue3', 'surrogate': False}]},\n",
       "  {'description': 'Qualification 23',\n",
       "   'field': 'Primary',\n",
       "   'tournamentLevel': 'Qualification',\n",
       "   'startTime': '2020-02-29T14:56:00',\n",
       "   'matchNumber': 23,\n",
       "   'teams': [{'teamNumber': 4089, 'station': 'Red1', 'surrogate': False},\n",
       "    {'teamNumber': 4205, 'station': 'Red2', 'surrogate': False},\n",
       "    {'teamNumber': 4683, 'station': 'Red3', 'surrogate': False},\n",
       "    {'teamNumber': 8032, 'station': 'Blue1', 'surrogate': False},\n",
       "    {'teamNumber': 4915, 'station': 'Blue2', 'surrogate': False},\n",
       "    {'teamNumber': 4173, 'station': 'Blue3', 'surrogate': False}]},\n",
       "  {'description': 'Qualification 24',\n",
       "   'field': 'Primary',\n",
       "   'tournamentLevel': 'Qualification',\n",
       "   'startTime': '2020-02-29T15:03:00',\n",
       "   'matchNumber': 24,\n",
       "   'teams': [{'teamNumber': 1294, 'station': 'Red1', 'surrogate': False},\n",
       "    {'teamNumber': 2522, 'station': 'Red2', 'surrogate': False},\n",
       "    {'teamNumber': 1318, 'station': 'Red3', 'surrogate': False},\n",
       "    {'teamNumber': 1778, 'station': 'Blue1', 'surrogate': False},\n",
       "    {'teamNumber': 4512, 'station': 'Blue2', 'surrogate': False},\n",
       "    {'teamNumber': 7118, 'station': 'Blue3', 'surrogate': False}]},\n",
       "  {'description': 'Qualification 25',\n",
       "   'field': 'Primary',\n",
       "   'tournamentLevel': 'Qualification',\n",
       "   'startTime': '2020-02-29T15:10:00',\n",
       "   'matchNumber': 25,\n",
       "   'teams': [{'teamNumber': 492, 'station': 'Red1', 'surrogate': False},\n",
       "    {'teamNumber': 3268, 'station': 'Red2', 'surrogate': False},\n",
       "    {'teamNumber': 8248, 'station': 'Red3', 'surrogate': False},\n",
       "    {'teamNumber': 4681, 'station': 'Blue1', 'surrogate': False},\n",
       "    {'teamNumber': 7627, 'station': 'Blue2', 'surrogate': False},\n",
       "    {'teamNumber': 7461, 'station': 'Blue3', 'surrogate': False}]},\n",
       "  {'description': 'Qualification 26',\n",
       "   'field': 'Primary',\n",
       "   'tournamentLevel': 'Qualification',\n",
       "   'startTime': '2020-02-29T15:17:00',\n",
       "   'matchNumber': 26,\n",
       "   'teams': [{'teamNumber': 1899, 'station': 'Red1', 'surrogate': False},\n",
       "    {'teamNumber': 4911, 'station': 'Red2', 'surrogate': False},\n",
       "    {'teamNumber': 2910, 'station': 'Red3', 'surrogate': False},\n",
       "    {'teamNumber': 4513, 'station': 'Blue1', 'surrogate': False},\n",
       "    {'teamNumber': 2903, 'station': 'Blue2', 'surrogate': False},\n",
       "    {'teamNumber': 2928, 'station': 'Blue3', 'surrogate': False}]},\n",
       "  {'description': 'Qualification 27',\n",
       "   'field': 'Primary',\n",
       "   'tournamentLevel': 'Qualification',\n",
       "   'startTime': '2020-02-29T15:24:00',\n",
       "   'matchNumber': 27,\n",
       "   'teams': [{'teamNumber': 7118, 'station': 'Red1', 'surrogate': False},\n",
       "    {'teamNumber': 4173, 'station': 'Red2', 'surrogate': False},\n",
       "    {'teamNumber': 2930, 'station': 'Red3', 'surrogate': False},\n",
       "    {'teamNumber': 4309, 'station': 'Blue1', 'surrogate': False},\n",
       "    {'teamNumber': 8059, 'station': 'Blue2', 'surrogate': False},\n",
       "    {'teamNumber': 3826, 'station': 'Blue3', 'surrogate': False}]},\n",
       "  {'description': 'Qualification 28',\n",
       "   'field': 'Primary',\n",
       "   'tournamentLevel': 'Qualification',\n",
       "   'startTime': '2020-02-29T15:31:00',\n",
       "   'matchNumber': 28,\n",
       "   'teams': [{'teamNumber': 1318, 'station': 'Red1', 'surrogate': False},\n",
       "    {'teamNumber': 1778, 'station': 'Red2', 'surrogate': False},\n",
       "    {'teamNumber': 949, 'station': 'Red3', 'surrogate': False},\n",
       "    {'teamNumber': 4681, 'station': 'Blue1', 'surrogate': False},\n",
       "    {'teamNumber': 8032, 'station': 'Blue2', 'surrogate': False},\n",
       "    {'teamNumber': 4180, 'station': 'Blue3', 'surrogate': False}]},\n",
       "  {'description': 'Qualification 29',\n",
       "   'field': 'Primary',\n",
       "   'tournamentLevel': 'Qualification',\n",
       "   'startTime': '2020-02-29T15:38:00',\n",
       "   'matchNumber': 29,\n",
       "   'teams': [{'teamNumber': 2412, 'station': 'Red1', 'surrogate': False},\n",
       "    {'teamNumber': 4682, 'station': 'Red2', 'surrogate': False},\n",
       "    {'teamNumber': 4512, 'station': 'Red3', 'surrogate': False},\n",
       "    {'teamNumber': 2976, 'station': 'Blue1', 'surrogate': False},\n",
       "    {'teamNumber': 4205, 'station': 'Blue2', 'surrogate': False},\n",
       "    {'teamNumber': 8248, 'station': 'Blue3', 'surrogate': False}]},\n",
       "  {'description': 'Qualification 30',\n",
       "   'field': 'Primary',\n",
       "   'tournamentLevel': 'Qualification',\n",
       "   'startTime': '2020-02-29T15:45:00',\n",
       "   'matchNumber': 30,\n",
       "   'teams': [{'teamNumber': 4089, 'station': 'Red1', 'surrogate': False},\n",
       "    {'teamNumber': 3070, 'station': 'Red2', 'surrogate': False},\n",
       "    {'teamNumber': 4918, 'station': 'Red3', 'surrogate': False},\n",
       "    {'teamNumber': 5588, 'station': 'Blue1', 'surrogate': False},\n",
       "    {'teamNumber': 7627, 'station': 'Blue2', 'surrogate': False},\n",
       "    {'teamNumber': 3268, 'station': 'Blue3', 'surrogate': False}]},\n",
       "  {'description': 'Qualification 31',\n",
       "   'field': 'Primary',\n",
       "   'tournamentLevel': 'Qualification',\n",
       "   'startTime': '2020-02-29T15:52:00',\n",
       "   'matchNumber': 31,\n",
       "   'teams': [{'teamNumber': 4131, 'station': 'Red1', 'surrogate': False},\n",
       "    {'teamNumber': 1294, 'station': 'Red2', 'surrogate': False},\n",
       "    {'teamNumber': 4915, 'station': 'Red3', 'surrogate': False},\n",
       "    {'teamNumber': 4683, 'station': 'Blue1', 'surrogate': False},\n",
       "    {'teamNumber': 2522, 'station': 'Blue2', 'surrogate': False},\n",
       "    {'teamNumber': 1899, 'station': 'Blue3', 'surrogate': False}]},\n",
       "  {'description': 'Qualification 32',\n",
       "   'field': 'Primary',\n",
       "   'tournamentLevel': 'Qualification',\n",
       "   'startTime': '2020-02-29T16:15:00',\n",
       "   'matchNumber': 32,\n",
       "   'teams': [{'teamNumber': 7461, 'station': 'Red1', 'surrogate': False},\n",
       "    {'teamNumber': 1318, 'station': 'Red2', 'surrogate': False},\n",
       "    {'teamNumber': 4173, 'station': 'Red3', 'surrogate': False},\n",
       "    {'teamNumber': 2928, 'station': 'Blue1', 'surrogate': False},\n",
       "    {'teamNumber': 949, 'station': 'Blue2', 'surrogate': False},\n",
       "    {'teamNumber': 2976, 'station': 'Blue3', 'surrogate': False}]},\n",
       "  {'description': 'Qualification 33',\n",
       "   'field': 'Primary',\n",
       "   'tournamentLevel': 'Qualification',\n",
       "   'startTime': '2020-02-29T16:22:00',\n",
       "   'matchNumber': 33,\n",
       "   'teams': [{'teamNumber': 8059, 'station': 'Red1', 'surrogate': False},\n",
       "    {'teamNumber': 2910, 'station': 'Red2', 'surrogate': False},\n",
       "    {'teamNumber': 4681, 'station': 'Red3', 'surrogate': False},\n",
       "    {'teamNumber': 4682, 'station': 'Blue1', 'surrogate': False},\n",
       "    {'teamNumber': 7627, 'station': 'Blue2', 'surrogate': False},\n",
       "    {'teamNumber': 8032, 'station': 'Blue3', 'surrogate': False}]},\n",
       "  {'description': 'Qualification 34',\n",
       "   'field': 'Primary',\n",
       "   'tournamentLevel': 'Qualification',\n",
       "   'startTime': '2020-02-29T16:29:00',\n",
       "   'matchNumber': 34,\n",
       "   'teams': [{'teamNumber': 3070, 'station': 'Red1', 'surrogate': False},\n",
       "    {'teamNumber': 4131, 'station': 'Red2', 'surrogate': False},\n",
       "    {'teamNumber': 4309, 'station': 'Red3', 'surrogate': False},\n",
       "    {'teamNumber': 1294, 'station': 'Blue1', 'surrogate': False},\n",
       "    {'teamNumber': 2412, 'station': 'Blue2', 'surrogate': False},\n",
       "    {'teamNumber': 4180, 'station': 'Blue3', 'surrogate': False}]},\n",
       "  {'description': 'Qualification 35',\n",
       "   'field': 'Primary',\n",
       "   'tournamentLevel': 'Qualification',\n",
       "   'startTime': '2020-02-29T16:36:00',\n",
       "   'matchNumber': 35,\n",
       "   'teams': [{'teamNumber': 2903, 'station': 'Red1', 'surrogate': False},\n",
       "    {'teamNumber': 4512, 'station': 'Red2', 'surrogate': False},\n",
       "    {'teamNumber': 3268, 'station': 'Red3', 'surrogate': False},\n",
       "    {'teamNumber': 4915, 'station': 'Blue1', 'surrogate': False},\n",
       "    {'teamNumber': 4683, 'station': 'Blue2', 'surrogate': False},\n",
       "    {'teamNumber': 1778, 'station': 'Blue3', 'surrogate': False}]},\n",
       "  {'description': 'Qualification 36',\n",
       "   'field': 'Primary',\n",
       "   'tournamentLevel': 'Qualification',\n",
       "   'startTime': '2020-02-29T16:43:00',\n",
       "   'matchNumber': 36,\n",
       "   'teams': [{'teamNumber': 4513, 'station': 'Red1', 'surrogate': False},\n",
       "    {'teamNumber': 2930, 'station': 'Red2', 'surrogate': False},\n",
       "    {'teamNumber': 2522, 'station': 'Red3', 'surrogate': False},\n",
       "    {'teamNumber': 7118, 'station': 'Blue1', 'surrogate': False},\n",
       "    {'teamNumber': 8248, 'station': 'Blue2', 'surrogate': False},\n",
       "    {'teamNumber': 4089, 'station': 'Blue3', 'surrogate': False}]},\n",
       "  {'description': 'Qualification 37',\n",
       "   'field': 'Primary',\n",
       "   'tournamentLevel': 'Qualification',\n",
       "   'startTime': '2020-02-29T16:50:00',\n",
       "   'matchNumber': 37,\n",
       "   'teams': [{'teamNumber': 5588, 'station': 'Red1', 'surrogate': False},\n",
       "    {'teamNumber': 4918, 'station': 'Red2', 'surrogate': False},\n",
       "    {'teamNumber': 3826, 'station': 'Red3', 'surrogate': False},\n",
       "    {'teamNumber': 492, 'station': 'Blue1', 'surrogate': False},\n",
       "    {'teamNumber': 4205, 'station': 'Blue2', 'surrogate': False},\n",
       "    {'teamNumber': 4911, 'station': 'Blue3', 'surrogate': False}]},\n",
       "  {'description': 'Qualification 38',\n",
       "   'field': 'Primary',\n",
       "   'tournamentLevel': 'Qualification',\n",
       "   'startTime': '2020-02-29T16:57:00',\n",
       "   'matchNumber': 38,\n",
       "   'teams': [{'teamNumber': 2910, 'station': 'Red1', 'surrogate': False},\n",
       "    {'teamNumber': 4682, 'station': 'Red2', 'surrogate': False},\n",
       "    {'teamNumber': 4131, 'station': 'Red3', 'surrogate': False},\n",
       "    {'teamNumber': 4512, 'station': 'Blue1', 'surrogate': False},\n",
       "    {'teamNumber': 4173, 'station': 'Blue2', 'surrogate': False},\n",
       "    {'teamNumber': 949, 'station': 'Blue3', 'surrogate': False}]},\n",
       "  {'description': 'Qualification 39',\n",
       "   'field': 'Primary',\n",
       "   'tournamentLevel': 'Qualification',\n",
       "   'startTime': '2020-02-29T17:04:00',\n",
       "   'matchNumber': 39,\n",
       "   'teams': [{'teamNumber': 1778, 'station': 'Red1', 'surrogate': False},\n",
       "    {'teamNumber': 7461, 'station': 'Red2', 'surrogate': False},\n",
       "    {'teamNumber': 2930, 'station': 'Red3', 'surrogate': False},\n",
       "    {'teamNumber': 7627, 'station': 'Blue1', 'surrogate': False},\n",
       "    {'teamNumber': 4683, 'station': 'Blue2', 'surrogate': False},\n",
       "    {'teamNumber': 4513, 'station': 'Blue3', 'surrogate': False}]},\n",
       "  {'description': 'Qualification 40',\n",
       "   'field': 'Primary',\n",
       "   'tournamentLevel': 'Qualification',\n",
       "   'startTime': '2020-02-29T17:11:00',\n",
       "   'matchNumber': 40,\n",
       "   'teams': [{'teamNumber': 5588, 'station': 'Red1', 'surrogate': False},\n",
       "    {'teamNumber': 8248, 'station': 'Red2', 'surrogate': False},\n",
       "    {'teamNumber': 4309, 'station': 'Red3', 'surrogate': False},\n",
       "    {'teamNumber': 4681, 'station': 'Blue1', 'surrogate': False},\n",
       "    {'teamNumber': 2522, 'station': 'Blue2', 'surrogate': False},\n",
       "    {'teamNumber': 492, 'station': 'Blue3', 'surrogate': False}]},\n",
       "  {'description': 'Qualification 41',\n",
       "   'field': 'Primary',\n",
       "   'tournamentLevel': 'Qualification',\n",
       "   'startTime': '2020-02-29T17:18:00',\n",
       "   'matchNumber': 41,\n",
       "   'teams': [{'teamNumber': 2976, 'station': 'Red1', 'surrogate': False},\n",
       "    {'teamNumber': 1899, 'station': 'Red2', 'surrogate': False},\n",
       "    {'teamNumber': 1318, 'station': 'Red3', 'surrogate': False},\n",
       "    {'teamNumber': 3268, 'station': 'Blue1', 'surrogate': False},\n",
       "    {'teamNumber': 4205, 'station': 'Blue2', 'surrogate': False},\n",
       "    {'teamNumber': 7118, 'station': 'Blue3', 'surrogate': False}]},\n",
       "  {'description': 'Qualification 42',\n",
       "   'field': 'Primary',\n",
       "   'tournamentLevel': 'Qualification',\n",
       "   'startTime': '2020-02-29T17:25:00',\n",
       "   'matchNumber': 42,\n",
       "   'teams': [{'teamNumber': 2903, 'station': 'Red1', 'surrogate': False},\n",
       "    {'teamNumber': 4089, 'station': 'Red2', 'surrogate': False},\n",
       "    {'teamNumber': 2412, 'station': 'Red3', 'surrogate': False},\n",
       "    {'teamNumber': 8032, 'station': 'Blue1', 'surrogate': False},\n",
       "    {'teamNumber': 3826, 'station': 'Blue2', 'surrogate': False},\n",
       "    {'teamNumber': 1294, 'station': 'Blue3', 'surrogate': False}]},\n",
       "  {'description': 'Qualification 43',\n",
       "   'field': 'Primary',\n",
       "   'tournamentLevel': 'Qualification',\n",
       "   'startTime': '2020-02-29T17:32:00',\n",
       "   'matchNumber': 43,\n",
       "   'teams': [{'teamNumber': 4915, 'station': 'Red1', 'surrogate': False},\n",
       "    {'teamNumber': 4911, 'station': 'Red2', 'surrogate': False},\n",
       "    {'teamNumber': 3070, 'station': 'Red3', 'surrogate': False},\n",
       "    {'teamNumber': 8059, 'station': 'Blue1', 'surrogate': False},\n",
       "    {'teamNumber': 4180, 'station': 'Blue2', 'surrogate': False},\n",
       "    {'teamNumber': 4918, 'station': 'Blue3', 'surrogate': False}]},\n",
       "  {'description': 'Qualification 44',\n",
       "   'field': 'Primary',\n",
       "   'tournamentLevel': 'Qualification',\n",
       "   'startTime': '2020-02-29T17:39:00',\n",
       "   'matchNumber': 44,\n",
       "   'teams': [{'teamNumber': 2928, 'station': 'Red1', 'surrogate': False},\n",
       "    {'teamNumber': 4309, 'station': 'Red2', 'surrogate': False},\n",
       "    {'teamNumber': 3268, 'station': 'Red3', 'surrogate': False},\n",
       "    {'teamNumber': 4682, 'station': 'Blue1', 'surrogate': False},\n",
       "    {'teamNumber': 2522, 'station': 'Blue2', 'surrogate': False},\n",
       "    {'teamNumber': 949, 'station': 'Blue3', 'surrogate': False}]},\n",
       "  {'description': 'Qualification 45',\n",
       "   'field': 'Primary',\n",
       "   'tournamentLevel': 'Qualification',\n",
       "   'startTime': '2020-02-29T17:46:00',\n",
       "   'matchNumber': 45,\n",
       "   'teams': [{'teamNumber': 7118, 'station': 'Red1', 'surrogate': False},\n",
       "    {'teamNumber': 4131, 'station': 'Red2', 'surrogate': False},\n",
       "    {'teamNumber': 1318, 'station': 'Red3', 'surrogate': False},\n",
       "    {'teamNumber': 8248, 'station': 'Blue1', 'surrogate': False},\n",
       "    {'teamNumber': 7461, 'station': 'Blue2', 'surrogate': False},\n",
       "    {'teamNumber': 2903, 'station': 'Blue3', 'surrogate': False}]},\n",
       "  {'description': 'Qualification 46',\n",
       "   'field': 'Primary',\n",
       "   'tournamentLevel': 'Qualification',\n",
       "   'startTime': '2020-02-29T17:53:00',\n",
       "   'matchNumber': 46,\n",
       "   'teams': [{'teamNumber': 5588, 'station': 'Red1', 'surrogate': False},\n",
       "    {'teamNumber': 492, 'station': 'Red2', 'surrogate': False},\n",
       "    {'teamNumber': 1294, 'station': 'Red3', 'surrogate': False},\n",
       "    {'teamNumber': 2910, 'station': 'Blue1', 'surrogate': False},\n",
       "    {'teamNumber': 4915, 'station': 'Blue2', 'surrogate': False},\n",
       "    {'teamNumber': 2930, 'station': 'Blue3', 'surrogate': False}]},\n",
       "  {'description': 'Qualification 47',\n",
       "   'field': 'Primary',\n",
       "   'tournamentLevel': 'Qualification',\n",
       "   'startTime': '2020-02-29T18:00:00',\n",
       "   'matchNumber': 47,\n",
       "   'teams': [{'teamNumber': 4683, 'station': 'Red1', 'surrogate': False},\n",
       "    {'teamNumber': 4681, 'station': 'Red2', 'surrogate': False},\n",
       "    {'teamNumber': 3070, 'station': 'Red3', 'surrogate': False},\n",
       "    {'teamNumber': 4911, 'station': 'Blue1', 'surrogate': False},\n",
       "    {'teamNumber': 2412, 'station': 'Blue2', 'surrogate': False},\n",
       "    {'teamNumber': 3826, 'station': 'Blue3', 'surrogate': False}]},\n",
       "  {'description': 'Qualification 48',\n",
       "   'field': 'Primary',\n",
       "   'tournamentLevel': 'Qualification',\n",
       "   'startTime': '2020-02-29T18:07:00',\n",
       "   'matchNumber': 48,\n",
       "   'teams': [{'teamNumber': 4173, 'station': 'Red1', 'surrogate': False},\n",
       "    {'teamNumber': 4180, 'station': 'Red2', 'surrogate': False},\n",
       "    {'teamNumber': 2928, 'station': 'Red3', 'surrogate': False},\n",
       "    {'teamNumber': 4205, 'station': 'Blue1', 'surrogate': False},\n",
       "    {'teamNumber': 4513, 'station': 'Blue2', 'surrogate': False},\n",
       "    {'teamNumber': 1778, 'station': 'Blue3', 'surrogate': False}]},\n",
       "  {'description': 'Qualification 49',\n",
       "   'field': 'Primary',\n",
       "   'tournamentLevel': 'Qualification',\n",
       "   'startTime': '2020-02-29T18:14:00',\n",
       "   'matchNumber': 49,\n",
       "   'teams': [{'teamNumber': 7627, 'station': 'Red1', 'surrogate': False},\n",
       "    {'teamNumber': 1899, 'station': 'Red2', 'surrogate': False},\n",
       "    {'teamNumber': 4512, 'station': 'Red3', 'surrogate': False},\n",
       "    {'teamNumber': 8032, 'station': 'Blue1', 'surrogate': False},\n",
       "    {'teamNumber': 8059, 'station': 'Blue2', 'surrogate': False},\n",
       "    {'teamNumber': 2976, 'station': 'Blue3', 'surrogate': False}]},\n",
       "  {'description': 'Qualification 50',\n",
       "   'field': 'Primary',\n",
       "   'tournamentLevel': 'Qualification',\n",
       "   'startTime': '2020-02-29T18:21:00',\n",
       "   'matchNumber': 50,\n",
       "   'teams': [{'teamNumber': 4918, 'station': 'Red1', 'surrogate': False},\n",
       "    {'teamNumber': 2910, 'station': 'Red2', 'surrogate': False},\n",
       "    {'teamNumber': 7118, 'station': 'Red3', 'surrogate': False},\n",
       "    {'teamNumber': 4089, 'station': 'Blue1', 'surrogate': False},\n",
       "    {'teamNumber': 7461, 'station': 'Blue2', 'surrogate': False},\n",
       "    {'teamNumber': 4915, 'station': 'Blue3', 'surrogate': False}]},\n",
       "  {'description': 'Qualification 51',\n",
       "   'field': 'Primary',\n",
       "   'tournamentLevel': 'Qualification',\n",
       "   'startTime': '2020-02-29T18:28:00',\n",
       "   'matchNumber': 51,\n",
       "   'teams': [{'teamNumber': 4681, 'station': 'Red1', 'surrogate': False},\n",
       "    {'teamNumber': 4513, 'station': 'Red2', 'surrogate': False},\n",
       "    {'teamNumber': 8248, 'station': 'Red3', 'surrogate': False},\n",
       "    {'teamNumber': 4131, 'station': 'Blue1', 'surrogate': False},\n",
       "    {'teamNumber': 2928, 'station': 'Blue2', 'surrogate': False},\n",
       "    {'teamNumber': 5588, 'station': 'Blue3', 'surrogate': False}]},\n",
       "  {'description': 'Qualification 52',\n",
       "   'field': 'Primary',\n",
       "   'tournamentLevel': 'Qualification',\n",
       "   'startTime': '2020-02-29T18:35:00',\n",
       "   'matchNumber': 52,\n",
       "   'teams': [{'teamNumber': 492, 'station': 'Red1', 'surrogate': False},\n",
       "    {'teamNumber': 3070, 'station': 'Red2', 'surrogate': False},\n",
       "    {'teamNumber': 2903, 'station': 'Red3', 'surrogate': False},\n",
       "    {'teamNumber': 1318, 'station': 'Blue1', 'surrogate': False},\n",
       "    {'teamNumber': 2930, 'station': 'Blue2', 'surrogate': False},\n",
       "    {'teamNumber': 4682, 'station': 'Blue3', 'surrogate': False}]},\n",
       "  {'description': 'Qualification 53',\n",
       "   'field': 'Primary',\n",
       "   'tournamentLevel': 'Qualification',\n",
       "   'startTime': '2020-02-29T18:42:00',\n",
       "   'matchNumber': 53,\n",
       "   'teams': [{'teamNumber': 4309, 'station': 'Red1', 'surrogate': False},\n",
       "    {'teamNumber': 8032, 'station': 'Red2', 'surrogate': False},\n",
       "    {'teamNumber': 4205, 'station': 'Red3', 'surrogate': False},\n",
       "    {'teamNumber': 3268, 'station': 'Blue1', 'surrogate': False},\n",
       "    {'teamNumber': 4911, 'station': 'Blue2', 'surrogate': False},\n",
       "    {'teamNumber': 1294, 'station': 'Blue3', 'surrogate': False}]},\n",
       "  {'description': 'Qualification 54',\n",
       "   'field': 'Primary',\n",
       "   'tournamentLevel': 'Qualification',\n",
       "   'startTime': '2020-02-29T18:49:00',\n",
       "   'matchNumber': 54,\n",
       "   'teams': [{'teamNumber': 4180, 'station': 'Red1', 'surrogate': False},\n",
       "    {'teamNumber': 7627, 'station': 'Red2', 'surrogate': False},\n",
       "    {'teamNumber': 2522, 'station': 'Red3', 'surrogate': False},\n",
       "    {'teamNumber': 3826, 'station': 'Blue1', 'surrogate': False},\n",
       "    {'teamNumber': 4683, 'station': 'Blue2', 'surrogate': False},\n",
       "    {'teamNumber': 2976, 'station': 'Blue3', 'surrogate': False}]},\n",
       "  {'description': 'Qualification 55',\n",
       "   'field': 'Primary',\n",
       "   'tournamentLevel': 'Qualification',\n",
       "   'startTime': '2020-02-29T18:56:00',\n",
       "   'matchNumber': 55,\n",
       "   'teams': [{'teamNumber': 4173, 'station': 'Red1', 'surrogate': False},\n",
       "    {'teamNumber': 8059, 'station': 'Red2', 'surrogate': False},\n",
       "    {'teamNumber': 1778, 'station': 'Red3', 'surrogate': False},\n",
       "    {'teamNumber': 2412, 'station': 'Blue1', 'surrogate': False},\n",
       "    {'teamNumber': 4918, 'station': 'Blue2', 'surrogate': False},\n",
       "    {'teamNumber': 1899, 'station': 'Blue3', 'surrogate': False}]},\n",
       "  {'description': 'Qualification 56',\n",
       "   'field': 'Primary',\n",
       "   'tournamentLevel': 'Qualification',\n",
       "   'startTime': '2020-02-29T19:03:00',\n",
       "   'matchNumber': 56,\n",
       "   'teams': [{'teamNumber': 4512, 'station': 'Red1', 'surrogate': False},\n",
       "    {'teamNumber': 4089, 'station': 'Red2', 'surrogate': False},\n",
       "    {'teamNumber': 4513, 'station': 'Red3', 'surrogate': False},\n",
       "    {'teamNumber': 949, 'station': 'Blue1', 'surrogate': False},\n",
       "    {'teamNumber': 4681, 'station': 'Blue2', 'surrogate': False},\n",
       "    {'teamNumber': 2903, 'station': 'Blue3', 'surrogate': False}]},\n",
       "  {'description': 'Qualification 57',\n",
       "   'field': 'Primary',\n",
       "   'tournamentLevel': 'Qualification',\n",
       "   'startTime': '2020-02-29T19:10:00',\n",
       "   'matchNumber': 57,\n",
       "   'teams': [{'teamNumber': 4911, 'station': 'Red1', 'surrogate': False},\n",
       "    {'teamNumber': 4309, 'station': 'Red2', 'surrogate': False},\n",
       "    {'teamNumber': 7627, 'station': 'Red3', 'surrogate': False},\n",
       "    {'teamNumber': 1318, 'station': 'Blue1', 'surrogate': False},\n",
       "    {'teamNumber': 4915, 'station': 'Blue2', 'surrogate': False},\n",
       "    {'teamNumber': 2928, 'station': 'Blue3', 'surrogate': False}]},\n",
       "  {'description': 'Qualification 58',\n",
       "   'field': 'Primary',\n",
       "   'tournamentLevel': 'Qualification',\n",
       "   'startTime': '2020-02-29T19:17:00',\n",
       "   'matchNumber': 58,\n",
       "   'teams': [{'teamNumber': 4205, 'station': 'Red1', 'surrogate': False},\n",
       "    {'teamNumber': 3826, 'station': 'Red2', 'surrogate': False},\n",
       "    {'teamNumber': 2522, 'station': 'Red3', 'surrogate': False},\n",
       "    {'teamNumber': 8059, 'station': 'Blue1', 'surrogate': False},\n",
       "    {'teamNumber': 7461, 'station': 'Blue2', 'surrogate': False},\n",
       "    {'teamNumber': 492, 'station': 'Blue3', 'surrogate': False}]},\n",
       "  {'description': 'Qualification 59',\n",
       "   'field': 'Primary',\n",
       "   'tournamentLevel': 'Qualification',\n",
       "   'startTime': '2020-02-29T19:24:00',\n",
       "   'matchNumber': 59,\n",
       "   'teams': [{'teamNumber': 4918, 'station': 'Red1', 'surrogate': False},\n",
       "    {'teamNumber': 8032, 'station': 'Red2', 'surrogate': False},\n",
       "    {'teamNumber': 1778, 'station': 'Red3', 'surrogate': False},\n",
       "    {'teamNumber': 2930, 'station': 'Blue1', 'surrogate': False},\n",
       "    {'teamNumber': 8248, 'station': 'Blue2', 'surrogate': False},\n",
       "    {'teamNumber': 4131, 'station': 'Blue3', 'surrogate': False}]},\n",
       "  {'description': 'Qualification 60',\n",
       "   'field': 'Primary',\n",
       "   'tournamentLevel': 'Qualification',\n",
       "   'startTime': '2020-03-01T09:30:00',\n",
       "   'matchNumber': 60,\n",
       "   'teams': [{'teamNumber': 3268, 'station': 'Red1', 'surrogate': False},\n",
       "    {'teamNumber': 4173, 'station': 'Red2', 'surrogate': False},\n",
       "    {'teamNumber': 4683, 'station': 'Red3', 'surrogate': False},\n",
       "    {'teamNumber': 949, 'station': 'Blue1', 'surrogate': False},\n",
       "    {'teamNumber': 2910, 'station': 'Blue2', 'surrogate': False},\n",
       "    {'teamNumber': 5588, 'station': 'Blue3', 'surrogate': False}]},\n",
       "  {'description': 'Qualification 61',\n",
       "   'field': 'Primary',\n",
       "   'tournamentLevel': 'Qualification',\n",
       "   'startTime': '2020-03-01T09:39:00',\n",
       "   'matchNumber': 61,\n",
       "   'teams': [{'teamNumber': 3070, 'station': 'Red1', 'surrogate': False},\n",
       "    {'teamNumber': 4512, 'station': 'Red2', 'surrogate': False},\n",
       "    {'teamNumber': 4180, 'station': 'Red3', 'surrogate': False},\n",
       "    {'teamNumber': 4089, 'station': 'Blue1', 'surrogate': False},\n",
       "    {'teamNumber': 1899, 'station': 'Blue2', 'surrogate': False},\n",
       "    {'teamNumber': 4682, 'station': 'Blue3', 'surrogate': False}]},\n",
       "  {'description': 'Qualification 62',\n",
       "   'field': 'Primary',\n",
       "   'tournamentLevel': 'Qualification',\n",
       "   'startTime': '2020-03-01T09:48:00',\n",
       "   'matchNumber': 62,\n",
       "   'teams': [{'teamNumber': 1294, 'station': 'Red1', 'surrogate': False},\n",
       "    {'teamNumber': 2976, 'station': 'Red2', 'surrogate': False},\n",
       "    {'teamNumber': 7627, 'station': 'Red3', 'surrogate': False},\n",
       "    {'teamNumber': 2412, 'station': 'Blue1', 'surrogate': False},\n",
       "    {'teamNumber': 7118, 'station': 'Blue2', 'surrogate': False},\n",
       "    {'teamNumber': 4915, 'station': 'Blue3', 'surrogate': False}]},\n",
       "  {'description': 'Qualification 63',\n",
       "   'field': 'Primary',\n",
       "   'tournamentLevel': 'Qualification',\n",
       "   'startTime': '2020-03-01T09:55:00',\n",
       "   'matchNumber': 63,\n",
       "   'teams': [{'teamNumber': 8059, 'station': 'Red1', 'surrogate': False},\n",
       "    {'teamNumber': 949, 'station': 'Red2', 'surrogate': False},\n",
       "    {'teamNumber': 2930, 'station': 'Red3', 'surrogate': False},\n",
       "    {'teamNumber': 3826, 'station': 'Blue1', 'surrogate': False},\n",
       "    {'teamNumber': 1778, 'station': 'Blue2', 'surrogate': False},\n",
       "    {'teamNumber': 4681, 'station': 'Blue3', 'surrogate': False}]},\n",
       "  {'description': 'Qualification 64',\n",
       "   'field': 'Primary',\n",
       "   'tournamentLevel': 'Qualification',\n",
       "   'startTime': '2020-03-01T10:02:00',\n",
       "   'matchNumber': 64,\n",
       "   'teams': [{'teamNumber': 1899, 'station': 'Red1', 'surrogate': False},\n",
       "    {'teamNumber': 5588, 'station': 'Red2', 'surrogate': False},\n",
       "    {'teamNumber': 4205, 'station': 'Red3', 'surrogate': False},\n",
       "    {'teamNumber': 2903, 'station': 'Blue1', 'surrogate': False},\n",
       "    {'teamNumber': 4309, 'station': 'Blue2', 'surrogate': False},\n",
       "    {'teamNumber': 4683, 'station': 'Blue3', 'surrogate': False}]},\n",
       "  {'description': 'Qualification 65',\n",
       "   'field': 'Primary',\n",
       "   'tournamentLevel': 'Qualification',\n",
       "   'startTime': '2020-03-01T10:09:00',\n",
       "   'matchNumber': 65,\n",
       "   'teams': [{'teamNumber': 2976, 'station': 'Red1', 'surrogate': False},\n",
       "    {'teamNumber': 7461, 'station': 'Red2', 'surrogate': False},\n",
       "    {'teamNumber': 4911, 'station': 'Red3', 'surrogate': False},\n",
       "    {'teamNumber': 1294, 'station': 'Blue1', 'surrogate': False},\n",
       "    {'teamNumber': 4089, 'station': 'Blue2', 'surrogate': False},\n",
       "    {'teamNumber': 4173, 'station': 'Blue3', 'surrogate': False}]},\n",
       "  {'description': 'Qualification 66',\n",
       "   'field': 'Primary',\n",
       "   'tournamentLevel': 'Qualification',\n",
       "   'startTime': '2020-03-01T10:16:00',\n",
       "   'matchNumber': 66,\n",
       "   'teams': [{'teamNumber': 4180, 'station': 'Red1', 'surrogate': False},\n",
       "    {'teamNumber': 4513, 'station': 'Red2', 'surrogate': False},\n",
       "    {'teamNumber': 1318, 'station': 'Red3', 'surrogate': False},\n",
       "    {'teamNumber': 4918, 'station': 'Blue1', 'surrogate': False},\n",
       "    {'teamNumber': 4682, 'station': 'Blue2', 'surrogate': False},\n",
       "    {'teamNumber': 3268, 'station': 'Blue3', 'surrogate': False}]},\n",
       "  {'description': 'Qualification 67',\n",
       "   'field': 'Primary',\n",
       "   'tournamentLevel': 'Qualification',\n",
       "   'startTime': '2020-03-01T10:23:00',\n",
       "   'matchNumber': 67,\n",
       "   'teams': [{'teamNumber': 8248, 'station': 'Red1', 'surrogate': False},\n",
       "    {'teamNumber': 2412, 'station': 'Red2', 'surrogate': False},\n",
       "    {'teamNumber': 2928, 'station': 'Red3', 'surrogate': False},\n",
       "    {'teamNumber': 2522, 'station': 'Blue1', 'surrogate': False},\n",
       "    {'teamNumber': 2910, 'station': 'Blue2', 'surrogate': False},\n",
       "    {'teamNumber': 4512, 'station': 'Blue3', 'surrogate': False}]},\n",
       "  {'description': 'Qualification 68',\n",
       "   'field': 'Primary',\n",
       "   'tournamentLevel': 'Qualification',\n",
       "   'startTime': '2020-03-01T10:30:00',\n",
       "   'matchNumber': 68,\n",
       "   'teams': [{'teamNumber': 492, 'station': 'Red1', 'surrogate': False},\n",
       "    {'teamNumber': 8032, 'station': 'Red2', 'surrogate': False},\n",
       "    {'teamNumber': 4131, 'station': 'Red3', 'surrogate': False},\n",
       "    {'teamNumber': 3070, 'station': 'Blue1', 'surrogate': False},\n",
       "    {'teamNumber': 7118, 'station': 'Blue2', 'surrogate': False},\n",
       "    {'teamNumber': 7461, 'station': 'Blue3', 'surrogate': False}]},\n",
       "  {'description': 'Qualification 69',\n",
       "   'field': 'Primary',\n",
       "   'tournamentLevel': 'Qualification',\n",
       "   'startTime': '2020-03-01T10:37:00',\n",
       "   'matchNumber': 69,\n",
       "   'teams': [{'teamNumber': 5588, 'station': 'Red1', 'surrogate': False},\n",
       "    {'teamNumber': 2903, 'station': 'Red2', 'surrogate': False},\n",
       "    {'teamNumber': 8059, 'station': 'Red3', 'surrogate': False},\n",
       "    {'teamNumber': 3268, 'station': 'Blue1', 'surrogate': False},\n",
       "    {'teamNumber': 2976, 'station': 'Blue2', 'surrogate': False},\n",
       "    {'teamNumber': 4180, 'station': 'Blue3', 'surrogate': False}]},\n",
       "  {'description': 'Qualification 70',\n",
       "   'field': 'Primary',\n",
       "   'tournamentLevel': 'Qualification',\n",
       "   'startTime': '2020-03-01T10:44:00',\n",
       "   'matchNumber': 70,\n",
       "   'teams': [{'teamNumber': 7627, 'station': 'Red1', 'surrogate': False},\n",
       "    {'teamNumber': 949, 'station': 'Red2', 'surrogate': False},\n",
       "    {'teamNumber': 4089, 'station': 'Red3', 'surrogate': False},\n",
       "    {'teamNumber': 4205, 'station': 'Blue1', 'surrogate': False},\n",
       "    {'teamNumber': 2930, 'station': 'Blue2', 'surrogate': False},\n",
       "    {'teamNumber': 2412, 'station': 'Blue3', 'surrogate': False}]},\n",
       "  {'description': 'Qualification 71',\n",
       "   'field': 'Primary',\n",
       "   'tournamentLevel': 'Qualification',\n",
       "   'startTime': '2020-03-01T10:51:00',\n",
       "   'matchNumber': 71,\n",
       "   'teams': [{'teamNumber': 3826, 'station': 'Red1', 'surrogate': False},\n",
       "    {'teamNumber': 8248, 'station': 'Red2', 'surrogate': False},\n",
       "    {'teamNumber': 4915, 'station': 'Red3', 'surrogate': False},\n",
       "    {'teamNumber': 4173, 'station': 'Blue1', 'surrogate': False},\n",
       "    {'teamNumber': 3070, 'station': 'Blue2', 'surrogate': False},\n",
       "    {'teamNumber': 1899, 'station': 'Blue3', 'surrogate': False}]},\n",
       "  {'description': 'Qualification 72',\n",
       "   'field': 'Primary',\n",
       "   'tournamentLevel': 'Qualification',\n",
       "   'startTime': '2020-03-01T10:58:00',\n",
       "   'matchNumber': 72,\n",
       "   'teams': [{'teamNumber': 4911, 'station': 'Red1', 'surrogate': False},\n",
       "    {'teamNumber': 4682, 'station': 'Red2', 'surrogate': False},\n",
       "    {'teamNumber': 7118, 'station': 'Red3', 'surrogate': False},\n",
       "    {'teamNumber': 4131, 'station': 'Blue1', 'surrogate': False},\n",
       "    {'teamNumber': 1778, 'station': 'Blue2', 'surrogate': False},\n",
       "    {'teamNumber': 2522, 'station': 'Blue3', 'surrogate': False}]},\n",
       "  {'description': 'Qualification 73',\n",
       "   'field': 'Primary',\n",
       "   'tournamentLevel': 'Qualification',\n",
       "   'startTime': '2020-03-01T11:05:00',\n",
       "   'matchNumber': 73,\n",
       "   'teams': [{'teamNumber': 4683, 'station': 'Red1', 'surrogate': False},\n",
       "    {'teamNumber': 1294, 'station': 'Red2', 'surrogate': False},\n",
       "    {'teamNumber': 2928, 'station': 'Red3', 'surrogate': False},\n",
       "    {'teamNumber': 4512, 'station': 'Blue1', 'surrogate': False},\n",
       "    {'teamNumber': 4918, 'station': 'Blue2', 'surrogate': False},\n",
       "    {'teamNumber': 492, 'station': 'Blue3', 'surrogate': False}]},\n",
       "  {'description': 'Qualification 74',\n",
       "   'field': 'Primary',\n",
       "   'tournamentLevel': 'Qualification',\n",
       "   'startTime': '2020-03-01T11:12:00',\n",
       "   'matchNumber': 74,\n",
       "   'teams': [{'teamNumber': 2910, 'station': 'Red1', 'surrogate': False},\n",
       "    {'teamNumber': 4513, 'station': 'Red2', 'surrogate': False},\n",
       "    {'teamNumber': 8032, 'station': 'Red3', 'surrogate': False},\n",
       "    {'teamNumber': 4309, 'station': 'Blue1', 'surrogate': False},\n",
       "    {'teamNumber': 1318, 'station': 'Blue2', 'surrogate': False},\n",
       "    {'teamNumber': 4681, 'station': 'Blue3', 'surrogate': False}]}]}"
      ]
     },
     "execution_count": 8,
     "metadata": {},
     "output_type": "execute_result"
    }
   ],
   "source": [
    "# Viewing sched dictionary\n",
    "sched"
   ]
  },
  {
   "cell_type": "markdown",
   "metadata": {},
   "source": [
    "Whoa. That's a lot of content.\n",
    "\n",
    "The `sched` dictionary contains the official match schedule from the 2020 FRC competition at Glacier Peak H.S. in Snohomish, WA, which occurred on 29 Feb and 1 Mar 2020. This data was downloaded from the FIRST API server, which is operated by FIRST headquarters in New Hampshire.\n",
    "\n",
    "A reasonable question to ask would be \"How many keys does the `sched` dictionary have? It's a pain to figure that out manually because there is so much data. Let's have Python figure it out for us."
   ]
  },
  {
   "cell_type": "code",
   "execution_count": 9,
   "metadata": {},
   "outputs": [
    {
     "data": {
      "text/plain": [
       "['Schedule']"
      ]
     },
     "execution_count": 9,
     "metadata": {},
     "output_type": "execute_result"
    }
   ],
   "source": [
    "# sched dictionary keys\n",
    "list(sched.keys())"
   ]
  },
  {
   "cell_type": "markdown",
   "metadata": {},
   "source": [
    "Interesting. There is only one key named *Schedule*. Let's see what that contains."
   ]
  },
  {
   "cell_type": "code",
   "execution_count": 10,
   "metadata": {},
   "outputs": [
    {
     "name": "stdout",
     "output_type": "stream",
     "text": [
      "<class 'list'>\n"
     ]
    }
   ],
   "source": [
    "# Exploring sched[\"Schedule\"]\n",
    "print(type(sched[\"Schedule\"]))"
   ]
  },
  {
   "cell_type": "markdown",
   "metadata": {},
   "source": [
    "Cool. It's a list. How long is it?"
   ]
  },
  {
   "cell_type": "code",
   "execution_count": 11,
   "metadata": {},
   "outputs": [
    {
     "data": {
      "text/plain": [
       "74"
      ]
     },
     "execution_count": 11,
     "metadata": {},
     "output_type": "execute_result"
    }
   ],
   "source": [
    "len(sched[\"Schedule\"])"
   ]
  },
  {
   "cell_type": "markdown",
   "metadata": {},
   "source": [
    "The `sched` dictionary contains one item, which is itself a list of length 74. The list contains one item for each of the 74 qualification matches at the Glacier Peak competition. Let's look at the first match."
   ]
  },
  {
   "cell_type": "code",
   "execution_count": 12,
   "metadata": {},
   "outputs": [
    {
     "data": {
      "text/plain": [
       "{'description': 'Qualification 1',\n",
       " 'field': 'Primary',\n",
       " 'tournamentLevel': 'Qualification',\n",
       " 'startTime': '2020-02-29T11:00:00',\n",
       " 'matchNumber': 1,\n",
       " 'teams': [{'teamNumber': 4131, 'station': 'Red1', 'surrogate': False},\n",
       "  {'teamNumber': 4683, 'station': 'Red2', 'surrogate': False},\n",
       "  {'teamNumber': 2412, 'station': 'Red3', 'surrogate': False},\n",
       "  {'teamNumber': 1318, 'station': 'Blue1', 'surrogate': False},\n",
       "  {'teamNumber': 4089, 'station': 'Blue2', 'surrogate': False},\n",
       "  {'teamNumber': 8059, 'station': 'Blue3', 'surrogate': False}]}"
      ]
     },
     "execution_count": 12,
     "metadata": {},
     "output_type": "execute_result"
    }
   ],
   "source": [
    "sched[\"Schedule\"][0]"
   ]
  },
  {
   "cell_type": "markdown",
   "metadata": {},
   "source": [
    "The first item in the list is a dictionary. If you've been keeping track, then you've noticed that we have a dictionary stored within a list withing a dictionary. This is what we're talking about when we refer to placing composite data types within other composite data types. And we can drill down even further - the *teams* key refers to yet another list, which contains several dictionaries. "
   ]
  },
  {
   "cell_type": "markdown",
   "metadata": {},
   "source": [
    "## V. Immutable Data Types\n",
    "We discussed earlier how lists and dictionaries are mutable and tuples are immutable. What about the scalar data types such as integers, floats, and strings? Run the following cells."
   ]
  },
  {
   "cell_type": "code",
   "execution_count": 13,
   "metadata": {},
   "outputs": [
    {
     "name": "stdout",
     "output_type": "stream",
     "text": [
      "ID number of var1: 2556190222192\n",
      "ID number of var1 after addition: 2556190222864\n"
     ]
    }
   ],
   "source": [
    "# Integer Example\n",
    "var1 = 999\n",
    "print(\"ID number of var1:\", id(var1))\n",
    "var1 += 1\n",
    "print(\"ID number of var1 after addition:\", id(var1))"
   ]
  },
  {
   "cell_type": "code",
   "execution_count": 14,
   "metadata": {},
   "outputs": [
    {
     "name": "stdout",
     "output_type": "stream",
     "text": [
      "ID number of var1: 2556190222352\n",
      "ID number of var1 after addition: 2556190222928\n"
     ]
    }
   ],
   "source": [
    "# Float Example\n",
    "var2 = 999.0\n",
    "print(\"ID number of var1:\", id(var2))\n",
    "var2 += 1\n",
    "print(\"ID number of var1 after addition:\", id(var2))"
   ]
  },
  {
   "cell_type": "markdown",
   "metadata": {},
   "source": [
    "See how the ID number of `var1` and `var2` changed when we added 1 to their values? This reveals some of Python's inner workings. The `var1` variable contains an integer object and `var2` contains a float. Both variables are initially set to the value 999. When we added one to this `var1` and `var2`, instead of modifying the value for the original integer or float object, Python created brand new objects with values of 1000 and assigned `var1` and `var2` to reference these new objects.\n",
    "\n",
    "Python integers and floats are immutable. Once created, Python cannot change the value of an integer or float object. We don't normally notice because Python is good at creating new integer and float objects on the fly and assigning the variable we're using to point to these objects.\n",
    "\n",
    "But what about strings? Run the following cell."
   ]
  },
  {
   "cell_type": "code",
   "execution_count": 15,
   "metadata": {},
   "outputs": [
    {
     "ename": "TypeError",
     "evalue": "'type' object does not support item assignment",
     "output_type": "error",
     "traceback": [
      "\u001b[1;31m---------------------------------------------------------------------------\u001b[0m",
      "\u001b[1;31mTypeError\u001b[0m                                 Traceback (most recent call last)",
      "\u001b[1;32m~\\AppData\\Local\\Temp/ipykernel_14456/818883326.py\u001b[0m in \u001b[0;36m<module>\u001b[1;34m\u001b[0m\n\u001b[0;32m      1\u001b[0m \u001b[1;31m# String Example\u001b[0m\u001b[1;33m\u001b[0m\u001b[1;33m\u001b[0m\u001b[1;33m\u001b[0m\u001b[0m\n\u001b[0;32m      2\u001b[0m \u001b[0mstr1\u001b[0m \u001b[1;33m=\u001b[0m \u001b[1;34m\"everyone can go pro\"\u001b[0m\u001b[1;33m\u001b[0m\u001b[1;33m\u001b[0m\u001b[0m\n\u001b[1;32m----> 3\u001b[1;33m \u001b[0mstr\u001b[0m\u001b[1;33m[\u001b[0m\u001b[1;36m0\u001b[0m\u001b[1;33m]\u001b[0m \u001b[1;33m=\u001b[0m \u001b[1;34m\"E\"\u001b[0m\u001b[1;33m\u001b[0m\u001b[1;33m\u001b[0m\u001b[0m\n\u001b[0m",
      "\u001b[1;31mTypeError\u001b[0m: 'type' object does not support item assignment"
     ]
    }
   ],
   "source": [
    "# String Example\n",
    "str1 = \"everyone can go pro\"\n",
    "str[0] = \"E\""
   ]
  },
  {
   "cell_type": "markdown",
   "metadata": {},
   "source": [
    "In the example above, we attempted to change the first character in the string, but Python wouldn't let us do it. Python strings are immutable, just like floats and integers. We can't alter a string object once created, but we can create a new string object by modifying the original string object.\n",
    "\n",
    "So are strings a composite or scalar data type? In some ways they behave like a scalar data type because we can use square bracket syntax, e.g., `str[0:5]` to extract individual characters. But on the other hand strings are immutable and they cannot contain other data types. The general consensus is that Python strings are a scalar data type."
   ]
  },
  {
   "cell_type": "markdown",
   "metadata": {},
   "source": [
    "## VI. More Exercises\n",
    "**Ex. VI.1.** Using the `sched` variable, find the scheduled start time for match 49. (Remember, the first element in a Python list is at index 0.)"
   ]
  },
  {
   "cell_type": "code",
   "execution_count": 92,
   "metadata": {},
   "outputs": [
    {
     "data": {
      "text/plain": [
       "'2020-02-29T18:14:00'"
      ]
     },
     "execution_count": 92,
     "metadata": {},
     "output_type": "execute_result"
    }
   ],
   "source": [
    "# Ex. VI.1:\n",
    "sched[\"Schedule\"][48][\"startTime\"]"
   ]
  },
  {
   "cell_type": "markdown",
   "metadata": {},
   "source": [
    "**Ex. VI.2.** Find the team at station *Blue2* in qualification match 71."
   ]
  },
  {
   "cell_type": "code",
   "execution_count": 40,
   "metadata": {},
   "outputs": [
    {
     "data": {
      "text/plain": [
       "3070"
      ]
     },
     "execution_count": 40,
     "metadata": {},
     "output_type": "execute_result"
    }
   ],
   "source": [
    "# Ex. VI.2:\n",
    "sched[\"Schedule\"][70][\"teams\"][4][\"teamNumber\"]\n"
   ]
  },
  {
   "cell_type": "markdown",
   "metadata": {},
   "source": [
    "**Ex. VI.3** Unpack the tuple below into three variables."
   ]
  },
  {
   "cell_type": "code",
   "execution_count": 44,
   "metadata": {},
   "outputs": [
    {
     "name": "stdout",
     "output_type": "stream",
     "text": [
      "unpack this tuple\n"
     ]
    }
   ],
   "source": [
    "# Ex. VI.3:\n",
    "up_tpl = (\"unpack\", \"this\", \"tuple\")\n",
    "up1, up2, up3 = up_tpl\n",
    "print(up1,up2,up3)"
   ]
  },
  {
   "cell_type": "markdown",
   "metadata": {},
   "source": [
    "**Ex. VI.4.** Reverse the tuple below. The result should be a tuple."
   ]
  },
  {
   "cell_type": "code",
   "execution_count": 48,
   "metadata": {},
   "outputs": [
    {
     "name": "stdout",
     "output_type": "stream",
     "text": [
      "(2, 1)\n",
      "<class 'tuple'>\n"
     ]
    }
   ],
   "source": [
    "# Ex VI.4:\n",
    "rtuple = (1, 2)\n",
    "rt1, rt2 = rtuple\n",
    "rtuple = rt2, rt1\n",
    "print(rtuple)\n",
    "print(type(rtuple))"
   ]
  },
  {
   "cell_type": "markdown",
   "metadata": {},
   "source": [
    "**Ex. VI.5.** Create a to-do list program using a dictionary of lists.\n",
    "\n",
    "Write code that stores a to-do list for each day of the week (Sunday through Saturday). Your program needs to have the following elements:\n",
    "\n",
    "- An empty dictionary to store information\n",
    "- A key in the dictionary for each day of the week\n",
    "- Each key has a value of a list that stores the to-do list items\n",
    "\n",
    "- User can type \"add\" and the program will ask what day, then ask what item to add to that day. Ensure the user can add multiple items per day. (That is, ensure that this adds a new item, not replaces an existing item.)\n",
    "- User can type \"get\" and the program will ask for the day and print the values\n",
    "- The program will loop, using a while loop, until the user specifies \"quit\"\n",
    "\n",
    "- Some user error checking is required, specifically: upper/lowercase for the days of the week, incorrect day of the week, or an incorrect command\n",
    "- ** Hint: This task requires you to use tools you learned about in Unit 2 (\"if\" and \"loops\") along with dictionaries and lists.**\n",
    "\n",
    "Example:\n",
    "```\n",
    "Prompt: What would you like to do?\n",
    "> add\n",
    "\n",
    "Prompt: What day?\n",
    "> Friday\n",
    "\n",
    "Prompt: What would you like to add to Friday's to-do list?\n",
    "> practice clarinet\n",
    "\n",
    "Prompt: What would you like to do?\n",
    "> get\n",
    "\n",
    "Prompt: What day?\n",
    "> funday\n",
    "Invalid entry - please enter a correct day of the week (like Monday or monday).\n",
    "\n",
    "Prompt: What day?\n",
    "> friday\n",
    "\n",
    "Response: You have to practice clarinet.\n",
    "\n",
    "Prompt: What would you like to do?\n",
    "> quit\n",
    "\n",
    "Response: Ending program. Thank you for using the to-do list!\n",
    "```"
   ]
  },
  {
   "cell_type": "code",
   "execution_count": 106,
   "metadata": {},
   "outputs": [
    {
     "name": "stdout",
     "output_type": "stream",
     "text": [
      "what would you like to do?\n",
      "add\n",
      "what day?\n",
      "tuesday\n",
      "what task would you like to add?\n",
      "internship\n",
      "task added.\n"
     ]
    },
    {
     "ename": "KeyboardInterrupt",
     "evalue": "Interrupted by user",
     "output_type": "error",
     "traceback": [
      "\u001b[1;31m---------------------------------------------------------------------------\u001b[0m",
      "\u001b[1;31mKeyboardInterrupt\u001b[0m                         Traceback (most recent call last)",
      "\u001b[1;32m~\\AppData\\Local\\Temp/ipykernel_14456/2243934956.py\u001b[0m in \u001b[0;36m<module>\u001b[1;34m\u001b[0m\n\u001b[0;32m     12\u001b[0m \u001b[0mquit\u001b[0m \u001b[1;33m=\u001b[0m \u001b[1;32mFalse\u001b[0m\u001b[1;33m\u001b[0m\u001b[1;33m\u001b[0m\u001b[0m\n\u001b[0;32m     13\u001b[0m \u001b[1;32mwhile\u001b[0m \u001b[0mquit\u001b[0m \u001b[1;33m==\u001b[0m \u001b[1;32mFalse\u001b[0m\u001b[1;33m:\u001b[0m\u001b[1;33m\u001b[0m\u001b[1;33m\u001b[0m\u001b[0m\n\u001b[1;32m---> 14\u001b[1;33m     \u001b[0mfunct\u001b[0m \u001b[1;33m=\u001b[0m \u001b[0minput\u001b[0m\u001b[1;33m(\u001b[0m\u001b[1;34m\"what would you like to do?\\n\"\u001b[0m\u001b[1;33m)\u001b[0m\u001b[1;33m.\u001b[0m\u001b[0mlower\u001b[0m\u001b[1;33m(\u001b[0m\u001b[1;33m)\u001b[0m\u001b[1;33m\u001b[0m\u001b[1;33m\u001b[0m\u001b[0m\n\u001b[0m\u001b[0;32m     15\u001b[0m     \u001b[0mfunct\u001b[0m \u001b[1;33m=\u001b[0m \u001b[0mstr\u001b[0m\u001b[1;33m(\u001b[0m\u001b[0mfunct\u001b[0m\u001b[1;33m)\u001b[0m\u001b[1;33m\u001b[0m\u001b[1;33m\u001b[0m\u001b[0m\n\u001b[0;32m     16\u001b[0m     \u001b[0mtype\u001b[0m\u001b[1;33m(\u001b[0m\u001b[0mfunct\u001b[0m\u001b[1;33m)\u001b[0m\u001b[1;33m\u001b[0m\u001b[1;33m\u001b[0m\u001b[0m\n",
      "\u001b[1;32m~\\miniconda3\\lib\\site-packages\\ipykernel\\kernelbase.py\u001b[0m in \u001b[0;36mraw_input\u001b[1;34m(self, prompt)\u001b[0m\n\u001b[0;32m   1004\u001b[0m                 \u001b[1;34m\"raw_input was called, but this frontend does not support input requests.\"\u001b[0m\u001b[1;33m\u001b[0m\u001b[1;33m\u001b[0m\u001b[0m\n\u001b[0;32m   1005\u001b[0m             )\n\u001b[1;32m-> 1006\u001b[1;33m         return self._input_request(\n\u001b[0m\u001b[0;32m   1007\u001b[0m             \u001b[0mstr\u001b[0m\u001b[1;33m(\u001b[0m\u001b[0mprompt\u001b[0m\u001b[1;33m)\u001b[0m\u001b[1;33m,\u001b[0m\u001b[1;33m\u001b[0m\u001b[1;33m\u001b[0m\u001b[0m\n\u001b[0;32m   1008\u001b[0m             \u001b[0mself\u001b[0m\u001b[1;33m.\u001b[0m\u001b[0m_parent_ident\u001b[0m\u001b[1;33m[\u001b[0m\u001b[1;34m\"shell\"\u001b[0m\u001b[1;33m]\u001b[0m\u001b[1;33m,\u001b[0m\u001b[1;33m\u001b[0m\u001b[1;33m\u001b[0m\u001b[0m\n",
      "\u001b[1;32m~\\miniconda3\\lib\\site-packages\\ipykernel\\kernelbase.py\u001b[0m in \u001b[0;36m_input_request\u001b[1;34m(self, prompt, ident, parent, password)\u001b[0m\n\u001b[0;32m   1049\u001b[0m             \u001b[1;32mexcept\u001b[0m \u001b[0mKeyboardInterrupt\u001b[0m\u001b[1;33m:\u001b[0m\u001b[1;33m\u001b[0m\u001b[1;33m\u001b[0m\u001b[0m\n\u001b[0;32m   1050\u001b[0m                 \u001b[1;31m# re-raise KeyboardInterrupt, to truncate traceback\u001b[0m\u001b[1;33m\u001b[0m\u001b[1;33m\u001b[0m\u001b[1;33m\u001b[0m\u001b[0m\n\u001b[1;32m-> 1051\u001b[1;33m                 \u001b[1;32mraise\u001b[0m \u001b[0mKeyboardInterrupt\u001b[0m\u001b[1;33m(\u001b[0m\u001b[1;34m\"Interrupted by user\"\u001b[0m\u001b[1;33m)\u001b[0m \u001b[1;32mfrom\u001b[0m \u001b[1;32mNone\u001b[0m\u001b[1;33m\u001b[0m\u001b[1;33m\u001b[0m\u001b[0m\n\u001b[0m\u001b[0;32m   1052\u001b[0m             \u001b[1;32mexcept\u001b[0m \u001b[0mException\u001b[0m\u001b[1;33m:\u001b[0m\u001b[1;33m\u001b[0m\u001b[1;33m\u001b[0m\u001b[0m\n\u001b[0;32m   1053\u001b[0m                 \u001b[0mself\u001b[0m\u001b[1;33m.\u001b[0m\u001b[0mlog\u001b[0m\u001b[1;33m.\u001b[0m\u001b[0mwarning\u001b[0m\u001b[1;33m(\u001b[0m\u001b[1;34m\"Invalid Message:\"\u001b[0m\u001b[1;33m,\u001b[0m \u001b[0mexc_info\u001b[0m\u001b[1;33m=\u001b[0m\u001b[1;32mTrue\u001b[0m\u001b[1;33m)\u001b[0m\u001b[1;33m\u001b[0m\u001b[1;33m\u001b[0m\u001b[0m\n",
      "\u001b[1;31mKeyboardInterrupt\u001b[0m: Interrupted by user"
     ]
    },
    {
     "name": "stdout",
     "output_type": "stream",
     "text": [
      "what would you like to do?\n",
      "quit\n"
     ]
    }
   ],
   "source": [
    "# Ex VI.5:\n",
    "if len(todo) <= 7:\n",
    "    monday = []\n",
    "    tuesday = []\n",
    "    wednesday = []\n",
    "    thursday = []\n",
    "    friday = []\n",
    "    saturday = []\n",
    "    sunday = []\n",
    "todo = {\"monday\": monday,\"tuesday\":tuesday,\"wednesday\":wednesday,\"thursday\":thursday,\n",
    "        \"friday\":friday,\"saturday\":saturday,\"sunday\":sunday}\n",
    "quit = False\n",
    "while quit == False:\n",
    "    funct = input(\"what would you like to do?\\n\").lower()\n",
    "    funct = str(funct)\n",
    "    type(funct)\n",
    "    \n",
    "    if funct != \"add\" and funct != \"get\" and funct != \"quit\" and  funct != \"del\":\n",
    "        print(\"error: function not found. proper functions are: add, get, del, and quit\")\n",
    "    if funct == \"quit\":\n",
    "        print(\"quitting program. thanks!\")\n",
    "        quit == True\n",
    "        break\n",
    "    day = str(input(\"what day?\\n\")).lower()\n",
    "    day = str(day)\n",
    "    type(day)\n",
    "    if day != \"monday\" and day != \"tuesday\" and day != \"wednesday\" and day != \"thursday\" and day != \"friday\" and day != \"saturday\" and day != \"sunday\":\n",
    "        print(\"unrecodnized day. please check your spelling\")\n",
    "        continue\n",
    "    if funct == \"get\":\n",
    "        if len(todo[day]) == 0:\n",
    "            print(\"you have no tasks.\")\n",
    "        else:\n",
    "            print(\"today's tasks are:\\n\", todo[day])\n",
    "    elif funct == \"add\":\n",
    "        addtask = input(\"what task would you like to add?\\n\")\n",
    "        todo[day].append(addtask)\n",
    "        print(\"task added.\")\n",
    "    elif funct == \"del\":\n",
    "        todo[day]\n",
    "        deltask = input(\"what task do you want to remove? (check speling and capitol letters)\\n\")\n",
    "        todo[day].remove(deltask)\n",
    "        print(\"task removed.\")\n",
    "\n",
    "\n",
    "\n",
    "\n",
    "\n",
    "\n",
    "\n"
   ]
  },
  {
   "cell_type": "markdown",
   "metadata": {},
   "source": [
    "## VII. Quiz\n",
    "Answer the following questions by typing the answers as comments in the code block below each question."
   ]
  },
  {
   "cell_type": "markdown",
   "metadata": {},
   "source": [
    "**#1.** One of these lines of code will create an error. Which one? Why?\n",
    "```python\n",
    "dvar1 = {[1, 2]: \"three\"}\n",
    "dvar2 = {(1, 2): \"three\"}\n",
    "```"
   ]
  },
  {
   "cell_type": "code",
   "execution_count": null,
   "metadata": {},
   "outputs": [],
   "source": [
    "#top one, because that would be a list, and i don't think lists can be keys in dictinaries.\n",
    "#"
   ]
  },
  {
   "cell_type": "markdown",
   "metadata": {},
   "source": [
    "**#2.** Which of the data types listed below are mutable?\n",
    "* string \n",
    "* integer\n",
    "* float\n",
    "* list\n",
    "* tuple\n",
    "* dictionary\n",
    "* boolean"
   ]
  },
  {
   "cell_type": "code",
   "execution_count": null,
   "metadata": {},
   "outputs": [],
   "source": [
    "#list and dictinary. (and also boolians, i think)\n",
    "#"
   ]
  },
  {
   "cell_type": "markdown",
   "metadata": {},
   "source": [
    "**#3.** What method can be used to loop over a dictionaries keys *and* values?"
   ]
  },
  {
   "cell_type": "code",
   "execution_count": null,
   "metadata": {},
   "outputs": [],
   "source": [
    "#.item?\n",
    "#"
   ]
  },
  {
   "cell_type": "markdown",
   "metadata": {},
   "source": [
    "## VIII. Save Your Work\n",
    "Once you have completed the exercises, save a copy of the notebook outside of the git repository (outside of the *pyclass_frc* folder). Include your name in the file name. Send the notebook file to another student to check your answers."
   ]
  },
  {
   "cell_type": "markdown",
   "metadata": {},
   "source": [
    "## IX. Concept and Terminology Review\n",
    "You should be able to define the following terms or describe the concept.\n",
    "* Composite data type\n",
    "* Immutable data Type\n",
    "* Mutable data type\n",
    "* Dictionary\n",
    "* Key\n",
    "* Value\n",
    "* `dict()` function\n",
    "* Looping with dictionaries\n",
    "* `.keys()` method\n",
    "* `.values()` method\n",
    "* `.items()` method\n",
    "* Tuples\n",
    "* Tuple packing\n",
    "* Tuple unpackign\n",
    "* `tuple()` function\n",
    "* Composite data types that contain other composite data types."
   ]
  },
  {
   "cell_type": "markdown",
   "metadata": {},
   "source": [
    "[Table of Contents](../../index.ipynb)"
   ]
  }
 ],
 "metadata": {
  "kernelspec": {
   "display_name": "Python 3 (ipykernel)",
   "language": "python",
   "name": "python3"
  },
  "language_info": {
   "codemirror_mode": {
    "name": "ipython",
    "version": 3
   },
   "file_extension": ".py",
   "mimetype": "text/x-python",
   "name": "python",
   "nbconvert_exporter": "python",
   "pygments_lexer": "ipython3",
   "version": "3.9.5"
  }
 },
 "nbformat": 4,
 "nbformat_minor": 4
}
